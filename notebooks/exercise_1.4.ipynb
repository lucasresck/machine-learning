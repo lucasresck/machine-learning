{
 "cells": [
  {
   "cell_type": "markdown",
   "id": "favorite-sweden",
   "metadata": {},
   "source": [
    "# *Exercise 1.4*\n",
    "\n",
    "*Let us create our own target function $f$ and data set $\\cal{D}$ and see how the perceptron learning algorithm works.\n",
    "Take $d = 2$ so you can visualize the problem, and choose a random line in the plane as your target function, where one side of the line maps to $1$ and the other maps to $-1$.\n",
    "Choose the inputs $\\mathbf{x}_n$ of the data set as random points in the plane, and evaluate the target function on each $\\mathbf{x}_n$ to get the corresponding output $\\mathbf{y}_n$.\n",
    "Now, generate a data set of size $20$. Try the perceptron learning algorithm on your data set and see how long it takes to converge and how well the final hypothesis $g$ matches your target $f$.\n",
    "You can find other ways to play with this experiment in Problem 1.4.*"
   ]
  },
  {
   "cell_type": "code",
   "execution_count": 1,
   "id": "brief-cradle",
   "metadata": {},
   "outputs": [],
   "source": [
    "import matplotlib.pyplot as plt\n",
    "import numpy as np\n",
    "\n",
    "np.random.seed(42)"
   ]
  },
  {
   "cell_type": "code",
   "execution_count": 2,
   "id": "russian-coalition",
   "metadata": {},
   "outputs": [],
   "source": [
    "def random_number():\n",
    "    '''Return random number in [-10, 10).'''\n",
    "    return 10*2*(np.random.random() - 0.5)"
   ]
  },
  {
   "cell_type": "code",
   "execution_count": 3,
   "id": "immune-occasion",
   "metadata": {},
   "outputs": [],
   "source": [
    "def plot(line_points, data_set=None, assignment=None):\n",
    "    '''Plot line and points.'''\n",
    "    \n",
    "    plt.axline(*line_points)\n",
    "    # If there is data_set, plot the points\n",
    "    if data_set:\n",
    "        x, y = zip(*data_set)\n",
    "        # If there is assignment, color the points\n",
    "        if assignment:\n",
    "            plt.scatter(x, y, c=assignment)\n",
    "        else:\n",
    "            plt.scatter(x, y)\n",
    "    plt.xlim([-10, 10])\n",
    "    plt.ylim([-10, 10])"
   ]
  },
  {
   "cell_type": "code",
   "execution_count": 4,
   "id": "informative-fiber",
   "metadata": {},
   "outputs": [],
   "source": [
    "class Pla:\n",
    "    '''Perceptron Learning Algorithm.'''\n",
    "    def __init__(self, data_set, classification):\n",
    "        self.data_set = data_set\n",
    "        self.correct_classification = classification\n",
    "        # The weights of PLA\n",
    "        self.w = np.array([0, 0, 0])\n",
    "        self.n_iterations = 0\n",
    "        self.pla()\n",
    "        \n",
    "    def pla(self):\n",
    "        '''Perceptron Learning Algorithm.'''\n",
    "        # Actual classification of the algorithm\n",
    "        self.classification = [self.h(point) for point in data_set]\n",
    "        # Check the classification\n",
    "        comparison, missclassified = self.check_classification()\n",
    "        # If it is still missclassified, update the classification\n",
    "        while missclassified:\n",
    "            self.update_weights(comparison.index(False))\n",
    "            self.classification = [self.h(point) for point in data_set]\n",
    "            comparison, missclassified = self.check_classification()\n",
    "            \n",
    "    def h(self, x):\n",
    "        '''Return the classification given by the model.'''\n",
    "        b, w1, w2 = self.w\n",
    "        \n",
    "        if b + w1*x[0] + w2*x[1] >= 0:\n",
    "            return 1\n",
    "        return -1\n",
    "    \n",
    "    def check_classification(self):\n",
    "        comparison = []\n",
    "        for i in range(len(self.classification)):\n",
    "            comparison.append(self.classification[i] == self.correct_classification[i])\n",
    "        return comparison, False in comparison\n",
    "            \n",
    "    def update_weights(self, index):\n",
    "        '''Iteration of PLA.'''\n",
    "        x = data_set[index]\n",
    "        x = np.array([1, x[0], x[1]])\n",
    "        self.w = self.w + self.correct_classification[index]*x\n",
    "        self.n_iterations += 1"
   ]
  },
  {
   "cell_type": "code",
   "execution_count": 5,
   "id": "infrared-training",
   "metadata": {},
   "outputs": [],
   "source": [
    "# Number of points\n",
    "n = 20"
   ]
  },
  {
   "cell_type": "markdown",
   "id": "million-travel",
   "metadata": {},
   "source": [
    "We choose a random line in the plane:"
   ]
  },
  {
   "cell_type": "code",
   "execution_count": 6,
   "id": "maritime-store",
   "metadata": {},
   "outputs": [
    {
     "data": {
      "image/png": "[encoded data removed]",
      "text/plain": [
       "<Figure size 432x288 with 1 Axes>"
      ]
     },
     "metadata": {
      "needs_background": "light"
     },
     "output_type": "display_data"
    }
   ],
   "source": [
    "x1, y1, x2, y2 = random_number(), random_number(), random_number(), random_number()\n",
    "\n",
    "line_points = [[x1, y1], [x2, y2]]\n",
    "plot(line_points)"
   ]
  },
  {
   "cell_type": "markdown",
   "id": "controlling-monkey",
   "metadata": {},
   "source": [
    "We choose $n = 20$ random points in the plane:"
   ]
  },
  {
   "cell_type": "code",
   "execution_count": 7,
   "id": "english-wealth",
   "metadata": {},
   "outputs": [
    {
     "data": {
      "image/png": "[encoded data removed]",
      "text/plain": [
       "<Figure size 432x288 with 1 Axes>"
      ]
     },
     "metadata": {
      "needs_background": "light"
     },
     "output_type": "display_data"
    }
   ],
   "source": [
    "data_set = [[random_number(), random_number()] for _ in range(n)]\n",
    "\n",
    "a = (y1 - y2)/(x1 - x2)\n",
    "b = y1 - a*x1\n",
    "\n",
    "# Calculate the weights\n",
    "w1 = a\n",
    "w2 = -1\n",
    "b = b\n",
    "\n",
    "# Give the right classification\n",
    "classification = [1 if b + w1*x[0] + w2*x[1] >= 0 else -1 for x in data_set]\n",
    "\n",
    "plot(line_points, data_set, classification)"
   ]
  },
  {
   "cell_type": "markdown",
   "id": "homeless-denmark",
   "metadata": {},
   "source": [
    "We run the PLA algorithm in order to learn a linear classification:"
   ]
  },
  {
   "cell_type": "code",
   "execution_count": 8,
   "id": "employed-taxation",
   "metadata": {},
   "outputs": [
    {
     "data": {
      "image/png": "[encoded data removed]",
      "text/plain": [
       "<Figure size 432x288 with 1 Axes>"
      ]
     },
     "metadata": {
      "needs_background": "light"
     },
     "output_type": "display_data"
    }
   ],
   "source": [
    "pla = Pla(data_set, classification)\n",
    "\n",
    "b, w1, w2 = pla.w\n",
    "x1, y1, x2, y2 = 0, -b/w2, -b/w1, 0\n",
    "new_line_points = [[x1, y1], [x2, y2]]\n",
    "plot(new_line_points, data_set, classification)"
   ]
  },
  {
   "cell_type": "markdown",
   "id": "sticky-jacob",
   "metadata": {},
   "source": [
    "We see our fitted line is not the same as the original, but the result is the same.\n",
    "This is the number of iterations:"
   ]
  },
  {
   "cell_type": "code",
   "execution_count": 9,
   "id": "indoor-drinking",
   "metadata": {},
   "outputs": [
    {
     "name": "stdout",
     "output_type": "stream",
     "text": [
      "23\n"
     ]
    }
   ],
   "source": [
    "print(pla.n_iterations)"
   ]
  },
  {
   "cell_type": "markdown",
   "id": "pacific-timothy",
   "metadata": {},
   "source": [
    "**Reference**:\n",
    "```bibtex\n",
    "@book{yaser2012learning,\n",
    "    title={Learning from Data: A Short Course},\n",
    "    author={Yaser S. Abu-Mostafa and Magdon-Ismail, M. and Lin, H.T.},\n",
    "    isbn={9781600490064},\n",
    "    url={https://books.google.com.br/books?id=iZUzMwEACAAJ},\n",
    "    year={2012},\n",
    "    publisher={AMLBook.com}\n",
    "}\n",
    "```"
   ]
  }
 ],
 "metadata": {
  "kernelspec": {
   "display_name": "Python 3",
   "language": "python",
   "name": "python3"
  },
  "language_info": {
   "codemirror_mode": {
    "name": "ipython",
    "version": 3
   },
   "file_extension": ".py",
   "mimetype": "text/x-python",
   "name": "python",
   "nbconvert_exporter": "python",
   "pygments_lexer": "ipython3",
   "version": "3.8.5"
  }
 },
 "nbformat": 4,
 "nbformat_minor": 5
}
