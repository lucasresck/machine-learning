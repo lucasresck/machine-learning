{
 "cells": [
  {
   "cell_type": "markdown",
   "id": "spanish-violence",
   "metadata": {},
   "source": [
    "# Separability of legal documents according to precedent citations\n",
    "\n",
    "- Lucas Emanuel Resck Domingues\n",
    "- Machine Learning assignment\n",
    "- Professor Rodrigo Targino, FGV-EMAp"
   ]
  },
  {
   "cell_type": "markdown",
   "id": "electronic-stability",
   "metadata": {
    "toc": true
   },
   "source": [
    "<h1>Table of Contents<span class=\"tocSkip\"></span></h1>\n",
    "<div class=\"toc\"><ul class=\"toc-item\"><li><span><a href=\"#Setup\" data-toc-modified-id=\"Setup-1\"><span class=\"toc-item-num\">1&nbsp;&nbsp;</span>Setup</a></span></li><li><span><a href=\"#Introduction\" data-toc-modified-id=\"Introduction-2\"><span class=\"toc-item-num\">2&nbsp;&nbsp;</span>Introduction</a></span></li><li><span><a href=\"#Dataset\" data-toc-modified-id=\"Dataset-3\"><span class=\"toc-item-num\">3&nbsp;&nbsp;</span>Dataset</a></span><ul class=\"toc-item\"><li><span><a href=\"#Binding-Precedents\" data-toc-modified-id=\"Binding-Precedents-3.1\"><span class=\"toc-item-num\">3.1&nbsp;&nbsp;</span>Binding Precedents</a></span></li><li><span><a href=\"#Dataset-description\" data-toc-modified-id=\"Dataset-description-3.2\"><span class=\"toc-item-num\">3.2&nbsp;&nbsp;</span>Dataset description</a></span></li><li><span><a href=\"#Exploratory-Data-Analysis\" data-toc-modified-id=\"Exploratory-Data-Analysis-3.3\"><span class=\"toc-item-num\">3.3&nbsp;&nbsp;</span>Exploratory Data Analysis</a></span></li></ul></li><li><span><a href=\"#Methodology\" data-toc-modified-id=\"Methodology-4\"><span class=\"toc-item-num\">4&nbsp;&nbsp;</span>Methodology</a></span><ul class=\"toc-item\"><li><span><a href=\"#Dataset-split\" data-toc-modified-id=\"Dataset-split-4.1\"><span class=\"toc-item-num\">4.1&nbsp;&nbsp;</span>Dataset split</a></span></li><li><span><a href=\"#Text-preprocessing\" data-toc-modified-id=\"Text-preprocessing-4.2\"><span class=\"toc-item-num\">4.2&nbsp;&nbsp;</span>Text preprocessing</a></span></li><li><span><a href=\"#Document-embeddings\" data-toc-modified-id=\"Document-embeddings-4.3\"><span class=\"toc-item-num\">4.3&nbsp;&nbsp;</span>Document embeddings</a></span></li><li><span><a href=\"#Machine-learning-models\" data-toc-modified-id=\"Machine-learning-models-4.4\"><span class=\"toc-item-num\">4.4&nbsp;&nbsp;</span>Machine learning models</a></span></li><li><span><a href=\"#Performance-metrics\" data-toc-modified-id=\"Performance-metrics-4.5\"><span class=\"toc-item-num\">4.5&nbsp;&nbsp;</span>Performance metrics</a></span></li></ul></li><li><span><a href=\"#Results-and-discussion\" data-toc-modified-id=\"Results-and-discussion-5\"><span class=\"toc-item-num\">5&nbsp;&nbsp;</span>Results and discussion</a></span><ul class=\"toc-item\"><li><span><a href=\"#Dataset-split-and-text-preprocessing\" data-toc-modified-id=\"Dataset-split-and-text-preprocessing-5.1\"><span class=\"toc-item-num\">5.1&nbsp;&nbsp;</span>Dataset split and text preprocessing</a></span></li><li><span><a href=\"#Document-embedding\" data-toc-modified-id=\"Document-embedding-5.2\"><span class=\"toc-item-num\">5.2&nbsp;&nbsp;</span>Document embedding</a></span></li><li><span><a href=\"#Machine-learning-models\" data-toc-modified-id=\"Machine-learning-models-5.3\"><span class=\"toc-item-num\">5.3&nbsp;&nbsp;</span>Machine learning models</a></span><ul class=\"toc-item\"><li><span><a href=\"#Linear-regression\" data-toc-modified-id=\"Linear-regression-5.3.1\"><span class=\"toc-item-num\">5.3.1&nbsp;&nbsp;</span>Linear regression</a></span></li><li><span><a href=\"#Logistic-regression\" data-toc-modified-id=\"Logistic-regression-5.3.2\"><span class=\"toc-item-num\">5.3.2&nbsp;&nbsp;</span>Logistic regression</a></span></li><li><span><a href=\"#Linear-Discriminant-Analysis\" data-toc-modified-id=\"Linear-Discriminant-Analysis-5.3.3\"><span class=\"toc-item-num\">5.3.3&nbsp;&nbsp;</span>Linear Discriminant Analysis</a></span></li><li><span><a href=\"#K-nearest-neighbours\" data-toc-modified-id=\"K-nearest-neighbours-5.3.4\"><span class=\"toc-item-num\">5.3.4&nbsp;&nbsp;</span>K-nearest neighbours</a></span></li><li><span><a href=\"#Random-forest\" data-toc-modified-id=\"Random-forest-5.3.5\"><span class=\"toc-item-num\">5.3.5&nbsp;&nbsp;</span>Random forest</a></span></li><li><span><a href=\"#Support-Vector-Machine\" data-toc-modified-id=\"Support-Vector-Machine-5.3.6\"><span class=\"toc-item-num\">5.3.6&nbsp;&nbsp;</span>Support Vector Machine</a></span></li></ul></li></ul></li><li><span><a href=\"#References\" data-toc-modified-id=\"References-6\"><span class=\"toc-item-num\">6&nbsp;&nbsp;</span>References</a></span></li></ul></div>"
   ]
  },
  {
   "cell_type": "markdown",
   "id": "packed-determination",
   "metadata": {
    "heading_collapsed": true
   },
   "source": [
    "## Setup"
   ]
  },
  {
   "cell_type": "code",
   "execution_count": 1,
   "id": "worst-header",
   "metadata": {
    "hidden": true
   },
   "outputs": [],
   "source": [
    "from sklearn.decomposition import TruncatedSVD\n",
    "from sklearn.discriminant_analysis import LinearDiscriminantAnalysis\n",
    "from sklearn.ensemble import RandomForestClassifier\n",
    "from sklearn.feature_extraction.text import TfidfVectorizer\n",
    "from sklearn.linear_model import LogisticRegressionCV\n",
    "from sklearn.linear_model import RidgeClassifierCV\n",
    "from sklearn.metrics import classification_report\n",
    "from sklearn.metrics import plot_confusion_matrix\n",
    "from sklearn.model_selection import GridSearchCV\n",
    "from sklearn.model_selection import StratifiedKFold\n",
    "from sklearn.model_selection import train_test_split\n",
    "from sklearn.neighbors import KNeighborsClassifier\n",
    "from sklearn.preprocessing import StandardScaler\n",
    "from sklearn.svm import SVC\n",
    "from tqdm.notebook import tqdm\n",
    "import matplotlib.pyplot as plt\n",
    "import numpy as np\n",
    "import os\n",
    "import pandas as pd\n",
    "import re\n",
    "import seaborn as sns\n",
    "import spacy"
   ]
  },
  {
   "cell_type": "code",
   "execution_count": 2,
   "id": "grave-guarantee",
   "metadata": {
    "hidden": true
   },
   "outputs": [],
   "source": [
    "data_path = os.path.join('../data/docs')\n",
    "random_state = 42"
   ]
  },
  {
   "cell_type": "markdown",
   "id": "suspended-prince",
   "metadata": {
    "heading_collapsed": true
   },
   "source": [
    "## Introduction"
   ]
  },
  {
   "cell_type": "markdown",
   "id": "powerful-drove",
   "metadata": {
    "hidden": true
   },
   "source": [
    "The Brazilian Supreme Court (STF) is the highest law court in Brazil. It produces a huge number of documents during its functioning, \\textit{e.g.}, there were produced more than 1 million STF decisions between 2011 and 2020 \\cite{}. STF is not the only institution that deals with overload: it is spread all over the Brazilian Judicial System.\n",
    "\n",
    "One approach to solve this problem is the so-called precedent: when a similar case has to be decided again, this new decision can be taken based on the referenced old decision. This way, cases are solved faster. Many precedents about a subject in a court are consolidated in what is called a ``súmula'', a document that resumes the court understanding about that subject. However, the application of this understanding is not mandatory, and the judge can take a different decision. This situation can lead not only to judicial inefficiency, but also to judicial insecurity: similar cases with different results.\n",
    "\n",
    "With this situation in mind, STF was allowed, in 2004, by Constitutional Amendment, to create \"Súmulas Vinculantes\", which we will call here \"Binding Precedents\", or just BPs. They are basically the old súmulas, but with mandatory application. These BPs are frequently cited in the STF decisions.\n",
    "\n",
    "It seems trivial that documents that cite the same precedents have the same subjects, and documents that cite different precedents have different subjects, in general. However, can machine learning models and algorithms identify this pattern themselves? That is, if a trained machine learning model is presented to a document, can it predict which precedent is being cited? These questions are very relevant because, if the answer is yes, artificial intelligence algorithms can be very helpful in assisting legal experts during their analysis, considering the big number of long legal documents.\n",
    "\n",
    "This situation of predicting the correct precedent is what is being called here as ``separability'' of documents. In this assignment, this separability will consider Binding Precedents in STF decisions. This work is organized as follows."
   ]
  },
  {
   "cell_type": "markdown",
   "id": "accepted-australian",
   "metadata": {
    "heading_collapsed": true
   },
   "source": [
    "## Dataset"
   ]
  },
  {
   "cell_type": "markdown",
   "id": "labeled-cincinnati",
   "metadata": {
    "hidden": true
   },
   "source": [
    "### Binding Precedents"
   ]
  },
  {
   "cell_type": "markdown",
   "id": "multiple-stake",
   "metadata": {
    "hidden": true
   },
   "source": [
    "Until June 2021, 58 Binding Precendents have already been created. For example, take a look at BP 10's text:\n",
    "\n",
    "\\textit{``Viola a cláusula de reserva de plenário (CF, artigo 97) a decisão de órgão fracionário de tribunal que, embora não declare expressamente a inconstitucionalidade de lei ou ato normativo do Poder Público, afasta sua incidência, no todo ou em parte.''}\n",
    "\n",
    "Although it can lead to some insights, we are not interested in studying the meaning of all the BPs."
   ]
  },
  {
   "cell_type": "markdown",
   "id": "defensive-brunswick",
   "metadata": {
    "hidden": true
   },
   "source": [
    "### Dataset description"
   ]
  },
  {
   "cell_type": "markdown",
   "id": "commercial-finland",
   "metadata": {
    "hidden": true
   },
   "source": [
    "The dataset used thoughout this work is composed by decisions generated by STF that cite at least one Binding Precedent. Although these documents are public, they are very difficult to be accessed, mainly when it is necessary a big amount of data. This way, we use a dataset gathered in the context of Supremo em Números project \\cite{}, from FGV's Law School.\n",
    "\n",
    "The dataset, in the way we have it, is composed by 58 CSV files of structured data, with columns:\n",
    "- title: document title, formed by date, document type and an ID;\n",
    "- raw_text: document's raw text;\n",
    "- i_cite: list of cited precedents, including BPs, already extracted from the raw texts;\n",
    "- date: document's publication date.\n",
    "\n",
    "See a sample:"
   ]
  },
  {
   "cell_type": "code",
   "execution_count": 3,
   "id": "manufactured-blackberry",
   "metadata": {
    "hidden": true
   },
   "outputs": [
    {
     "data": {
      "text/html": [
       "<div>\n",
       "<style scoped>\n",
       "    .dataframe tbody tr th:only-of-type {\n",
       "        vertical-align: middle;\n",
       "    }\n",
       "\n",
       "    .dataframe tbody tr th {\n",
       "        vertical-align: top;\n",
       "    }\n",
       "\n",
       "    .dataframe thead th {\n",
       "        text-align: right;\n",
       "    }\n",
       "</style>\n",
       "<table border=\"1\" class=\"dataframe\">\n",
       "  <thead>\n",
       "    <tr style=\"text-align: right;\">\n",
       "      <th></th>\n",
       "      <th>title</th>\n",
       "      <th>raw_text</th>\n",
       "      <th>i_cite</th>\n",
       "      <th>date</th>\n",
       "    </tr>\n",
       "  </thead>\n",
       "  <tbody>\n",
       "    <tr>\n",
       "      <th>10286</th>\n",
       "      <td>20181116_ARE_1175289_15339061159</td>\n",
       "      <td>Documento assinado digitalmente conforme MP n°...</td>\n",
       "      <td>['sum. vinc. 10 N/A STF N/A 11937 1187', 're 3...</td>\n",
       "      <td>2018-11-16</td>\n",
       "    </tr>\n",
       "  </tbody>\n",
       "</table>\n",
       "</div>"
      ],
      "text/plain": [
       "                                  title  \\\n",
       "10286  20181116_ARE_1175289_15339061159   \n",
       "\n",
       "                                                raw_text  \\\n",
       "10286  Documento assinado digitalmente conforme MP n°...   \n",
       "\n",
       "                                                  i_cite        date  \n",
       "10286  ['sum. vinc. 10 N/A STF N/A 11937 1187', 're 3...  2018-11-16  "
      ]
     },
     "execution_count": 3,
     "metadata": {},
     "output_type": "execute_result"
    }
   ],
   "source": [
    "sample = pd.read_csv(os.path.join(data_path, 'docs_sv_10.csv')).sample(random_state=random_state)\n",
    "sample"
   ]
  },
  {
   "cell_type": "code",
   "execution_count": 4,
   "id": "complete-accordance",
   "metadata": {
    "hidden": true
   },
   "outputs": [
    {
     "name": "stdout",
     "output_type": "stream",
     "text": [
      "\\begin{tabular}{lllll}\n",
      "\\toprule\n",
      "{} &                             title &                                           raw\\_text &                                             i\\_cite &        date \\\\\n",
      "\\midrule\n",
      "10286 &  20181116\\_ARE\\_1175289\\_15339061159 &  Documento assinado digitalmente conforme MP n°... &  ['sum. vinc. 10 N/A STF N/A 11937 1187', 're 3... &  2018-11-16 \\\\\n",
      "\\bottomrule\n",
      "\\end{tabular}\n",
      "\n"
     ]
    }
   ],
   "source": [
    "print(sample.to_latex())"
   ]
  },
  {
   "cell_type": "markdown",
   "id": "7b507fe8",
   "metadata": {
    "hidden": true
   },
   "source": [
    "This is how an usual document looks like:"
   ]
  },
  {
   "cell_type": "code",
   "execution_count": 5,
   "id": "f5698f4b",
   "metadata": {
    "hidden": true
   },
   "outputs": [
    {
     "name": "stdout",
     "output_type": "stream",
     "text": [
      "Documento assinado digitalmente conforme MP n° 2.200-2/2001 de 24/08/2001. O documento pode ser acessado pelo endereço\n",
      "http://www.stf.jus.br/portal/autenticacao/autenticarDocumento.asp sob o código EFF0-327E-F95C-C7FE e senha E40E-F1C1-C945-6B0D\n",
      "\n",
      "RECURSO EXTRAORDINÁRIO COM AGRAVO 1.175.289 RIO DE JANEIRO\n",
      "\n",
      "RELATOR : MIN. LUIZ FUX\n",
      "RECTE.(S) :DJALMA ESTELLA CABRAL JUNIOR \n",
      "ADV.(A/S) :ANA CAROLINA VIEIRA DA ROSA \n",
      "RECDO.(A/S) :MINISTÉRIO PÚBLICO DO ESTADO DO RIO DE \n",
      "\n",
      "PROC.(A/S)(ES) :PROCURADOR-GERAL DE JUSTIÇA DO ESTADO DO \n",
      "\n",
      "JANEIRO \n",
      "\n",
      "RIO DE JANEIRO \n",
      "\n",
      "RECURSO EXTRAORDINÁRIO COM \n",
      "AGRAVO. PENAL E PROCESSUAL \n",
      "PENAL. CRIME DE TRÁFICO ILÍCITO \n",
      "DE ENTORPECENTES. ARTIGO 33 DA \n",
      "LEI 11.343/2006. ALEGAÇÃO DE OFENSA \n",
      "AO ARTIGO 5º, XLVI, DA \n",
      "CONSTITUIÇÃO FEDERAL. PRINCÍPIO \n",
      "DA INDIVIDUALIZAÇÃO DA PENA. \n",
      "DOSIMETRIA DA PENA. MATÉRIA DE \n",
      "ÍNDOLE INFRACONSTITUCIONAL. \n",
      "ALEGAÇÃO DE OFENSA AO ARTIGO 5º, \n",
      "LVII, DA CONSTITUIÇÃO FEDERAL. \n",
      "PRINCÍPIO DA PRESUNÇÃO DE \n",
      "INOCÊNCIA. NEGATIVA DE AUTORIA \n",
      "DELITIVA. NECESSI\n"
     ]
    }
   ],
   "source": [
    "print(sample.raw_text.iloc[0][:1000])"
   ]
  },
  {
   "cell_type": "markdown",
   "id": "external-massachusetts",
   "metadata": {
    "hidden": true
   },
   "source": [
    "### Exploratory Data Analysis"
   ]
  },
  {
   "cell_type": "markdown",
   "id": "analyzed-spectrum",
   "metadata": {
    "hidden": true
   },
   "source": [
    "Although the dataset is very simple (few, autoexplainable columns), we can analyse it more deeply to better understand it. Let's start, for example, checking how many citations each BP has."
   ]
  },
  {
   "cell_type": "code",
   "execution_count": 6,
   "id": "silent-architect",
   "metadata": {
    "hidden": true
   },
   "outputs": [],
   "source": [
    "dfs = []\n",
    "for bp in range(1, 58+1):\n",
    "    try:\n",
    "        df = pd.read_csv(os.path.join(data_path, 'docs_sv_{}.csv'.format(bp)))\n",
    "        dfs.append(df)\n",
    "    except pd.errors.EmptyDataError as e:\n",
    "        dfs.append(None)"
   ]
  },
  {
   "cell_type": "code",
   "execution_count": 7,
   "id": "ea8345d6",
   "metadata": {
    "hidden": true
   },
   "outputs": [
    {
     "data": {
      "image/png": "[encoded data removed]",
      "text/plain": [
       "<Figure size 720x360 with 1 Axes>"
      ]
     },
     "metadata": {},
     "output_type": "display_data"
    }
   ],
   "source": [
    "sns.set_style('whitegrid')\n",
    "\n",
    "fig, ax = plt.subplots(figsize=(10, 5))\n",
    "\n",
    "sns.barplot(x=list(range(1, 58+1)), y=[len(df) if df is not None else 0 for df in dfs], color='gray', ax=ax)\n",
    "\n",
    "ax.set_xticklabels([str(i) if i % 2 == 0 else '' for i in range(1, 59)])\n",
    "plt.title('Number of citations per Binding Precendent (BP)')\n",
    "plt.xlabel('BP')\n",
    "plt.ylabel('Nº of citations');"
   ]
  },
  {
   "cell_type": "markdown",
   "id": "d3615c77",
   "metadata": {
    "hidden": true
   },
   "source": [
    "We see that the number of citations per BP is not uniform. BP 10, for example, has the greates number of citations, followed by 37, 4 and 8. This huge difference in number of citations can impact our analysis if we don't work around it.\n",
    "\n",
    "We already know the documents are long, but one could want to know how long these documents are. If we split each document at whitespaces and newlines and count the number of ``words'', we have an estimative of word count distribution of the documents."
   ]
  },
  {
   "cell_type": "code",
   "execution_count": 8,
   "id": "8694d78a",
   "metadata": {
    "hidden": true
   },
   "outputs": [
    {
     "data": {
      "text/html": [
       "<div>\n",
       "<style scoped>\n",
       "    .dataframe tbody tr th:only-of-type {\n",
       "        vertical-align: middle;\n",
       "    }\n",
       "\n",
       "    .dataframe tbody tr th {\n",
       "        vertical-align: top;\n",
       "    }\n",
       "\n",
       "    .dataframe thead th {\n",
       "        text-align: right;\n",
       "    }\n",
       "</style>\n",
       "<table border=\"1\" class=\"dataframe\">\n",
       "  <thead>\n",
       "    <tr style=\"text-align: right;\">\n",
       "      <th></th>\n",
       "      <th>title</th>\n",
       "      <th>raw_text</th>\n",
       "      <th>i_cite</th>\n",
       "      <th>date</th>\n",
       "    </tr>\n",
       "  </thead>\n",
       "  <tbody>\n",
       "    <tr>\n",
       "      <th>0</th>\n",
       "      <td>19700101_RE_422410_3279878</td>\n",
       "      <td>DESPACHO: Dê-se vista à PGR para elaboração de...</td>\n",
       "      <td>['sum. vinc. 1 N/A STF N/A']</td>\n",
       "      <td>1970-01-01</td>\n",
       "    </tr>\n",
       "    <tr>\n",
       "      <th>1</th>\n",
       "      <td>20081111_RE_581675_2329113</td>\n",
       "      <td>DECISÃO\\n\\nVistos.\\n\\nCaixa Econômica Federal ...</td>\n",
       "      <td>['sum. vinc. 1 N/A STF N/A']</td>\n",
       "      <td>2008-11-11</td>\n",
       "    </tr>\n",
       "    <tr>\n",
       "      <th>2</th>\n",
       "      <td>19700101_RE_606035_3280058</td>\n",
       "      <td>DESPACHO: Dê-se vista à PGR para elaboração de...</td>\n",
       "      <td>['sum. vinc. 1 N/A STF N/A']</td>\n",
       "      <td>1970-01-01</td>\n",
       "    </tr>\n",
       "    <tr>\n",
       "      <th>3</th>\n",
       "      <td>19700101_RE_637135_1424289</td>\n",
       "      <td>DJe 05/09/2011\\n\\nDecisão sobre Repercussão Ge...</td>\n",
       "      <td>['sum. vinc. 1 N/A STF N/A']</td>\n",
       "      <td>1970-01-01</td>\n",
       "    </tr>\n",
       "    <tr>\n",
       "      <th>4</th>\n",
       "      <td>20171122_Rcl_28954_313332094</td>\n",
       "      <td>MEDIDA CAUTELAR NA RECLAMAÇÃO 28.954 DISTRITO ...</td>\n",
       "      <td>['sum. vinc. 1 N/A STF N/A 167 15']</td>\n",
       "      <td>2017-11-22</td>\n",
       "    </tr>\n",
       "    <tr>\n",
       "      <th>...</th>\n",
       "      <td>...</td>\n",
       "      <td>...</td>\n",
       "      <td>...</td>\n",
       "      <td>...</td>\n",
       "    </tr>\n",
       "    <tr>\n",
       "      <th>38359</th>\n",
       "      <td>20161205_HC_138632_310876555</td>\n",
       "      <td>MEDIDA CAUTELAR NO HABEAS CORPUS 138.632 MINAS...</td>\n",
       "      <td>['hc 118212 4419627 STF N/A 1728 348', 'hc 668...</td>\n",
       "      <td>2016-12-05</td>\n",
       "    </tr>\n",
       "    <tr>\n",
       "      <th>38360</th>\n",
       "      <td>20181031_HC_162238_15338953871</td>\n",
       "      <td>Ementa e AcórdãoDocumento assinado digitalment...</td>\n",
       "      <td>['hc 108877 3748163 STJ N/A 337 184', 'hc 1360...</td>\n",
       "      <td>2018-10-31</td>\n",
       "    </tr>\n",
       "    <tr>\n",
       "      <th>38361</th>\n",
       "      <td>20181015_HC_152642_15338840024</td>\n",
       "      <td>Ementa e AcórdãoDocumento assinado digitalment...</td>\n",
       "      <td>['sum. 440 N/A STJ N/A 290 72', 'hc 402602 470...</td>\n",
       "      <td>2018-10-15</td>\n",
       "    </tr>\n",
       "    <tr>\n",
       "      <th>38362</th>\n",
       "      <td>20180927_HC_162543_15338719562</td>\n",
       "      <td>Documento assinado digitalmente conforme MP n°...</td>\n",
       "      <td>['aresp 1169 4004318 STJ N/A 4 3', 'hc 108877 ...</td>\n",
       "      <td>2018-09-27</td>\n",
       "    </tr>\n",
       "    <tr>\n",
       "      <th>38363</th>\n",
       "      <td>20171003_Rcl_24769_312869839</td>\n",
       "      <td>RECLAMAÇÃO 24.769 SANTA CATARINA\\n\\nRELATOR : ...</td>\n",
       "      <td>['sum. vinc. 57 N/A STF N/A 1 0', 'as 22 19910...</td>\n",
       "      <td>2017-10-03</td>\n",
       "    </tr>\n",
       "  </tbody>\n",
       "</table>\n",
       "<p>38364 rows × 4 columns</p>\n",
       "</div>"
      ],
      "text/plain": [
       "                                title  \\\n",
       "0          19700101_RE_422410_3279878   \n",
       "1          20081111_RE_581675_2329113   \n",
       "2          19700101_RE_606035_3280058   \n",
       "3          19700101_RE_637135_1424289   \n",
       "4        20171122_Rcl_28954_313332094   \n",
       "...                               ...   \n",
       "38359    20161205_HC_138632_310876555   \n",
       "38360  20181031_HC_162238_15338953871   \n",
       "38361  20181015_HC_152642_15338840024   \n",
       "38362  20180927_HC_162543_15338719562   \n",
       "38363    20171003_Rcl_24769_312869839   \n",
       "\n",
       "                                                raw_text  \\\n",
       "0      DESPACHO: Dê-se vista à PGR para elaboração de...   \n",
       "1      DECISÃO\\n\\nVistos.\\n\\nCaixa Econômica Federal ...   \n",
       "2      DESPACHO: Dê-se vista à PGR para elaboração de...   \n",
       "3      DJe 05/09/2011\\n\\nDecisão sobre Repercussão Ge...   \n",
       "4      MEDIDA CAUTELAR NA RECLAMAÇÃO 28.954 DISTRITO ...   \n",
       "...                                                  ...   \n",
       "38359  MEDIDA CAUTELAR NO HABEAS CORPUS 138.632 MINAS...   \n",
       "38360  Ementa e AcórdãoDocumento assinado digitalment...   \n",
       "38361  Ementa e AcórdãoDocumento assinado digitalment...   \n",
       "38362  Documento assinado digitalmente conforme MP n°...   \n",
       "38363  RECLAMAÇÃO 24.769 SANTA CATARINA\\n\\nRELATOR : ...   \n",
       "\n",
       "                                                  i_cite        date  \n",
       "0                           ['sum. vinc. 1 N/A STF N/A']  1970-01-01  \n",
       "1                           ['sum. vinc. 1 N/A STF N/A']  2008-11-11  \n",
       "2                           ['sum. vinc. 1 N/A STF N/A']  1970-01-01  \n",
       "3                           ['sum. vinc. 1 N/A STF N/A']  1970-01-01  \n",
       "4                    ['sum. vinc. 1 N/A STF N/A 167 15']  2017-11-22  \n",
       "...                                                  ...         ...  \n",
       "38359  ['hc 118212 4419627 STF N/A 1728 348', 'hc 668...  2016-12-05  \n",
       "38360  ['hc 108877 3748163 STJ N/A 337 184', 'hc 1360...  2018-10-31  \n",
       "38361  ['sum. 440 N/A STJ N/A 290 72', 'hc 402602 470...  2018-10-15  \n",
       "38362  ['aresp 1169 4004318 STJ N/A 4 3', 'hc 108877 ...  2018-09-27  \n",
       "38363  ['sum. vinc. 57 N/A STF N/A 1 0', 'as 22 19910...  2017-10-03  \n",
       "\n",
       "[38364 rows x 4 columns]"
      ]
     },
     "execution_count": 8,
     "metadata": {},
     "output_type": "execute_result"
    }
   ],
   "source": [
    "df = pd.concat(dfs, ignore_index=True)\n",
    "df = df[~df.title.duplicated()].reset_index(drop=True)\n",
    "df"
   ]
  },
  {
   "cell_type": "code",
   "execution_count": 9,
   "id": "5680f1cb",
   "metadata": {
    "hidden": true
   },
   "outputs": [
    {
     "data": {
      "image/png": "[encoded data removed]",
      "text/plain": [
       "<Figure size 432x288 with 1 Axes>"
      ]
     },
     "metadata": {},
     "output_type": "display_data"
    }
   ],
   "source": [
    "counts = np.array(df.raw_text.apply(lambda x: len(x.split())).to_list())\n",
    "sns.histplot(data=counts);"
   ]
  },
  {
   "cell_type": "code",
   "execution_count": 10,
   "id": "debdfaeb",
   "metadata": {
    "hidden": true
   },
   "outputs": [
    {
     "data": {
      "image/png": "[encoded data removed]",
      "text/plain": [
       "<Figure size 432x288 with 1 Axes>"
      ]
     },
     "metadata": {},
     "output_type": "display_data"
    }
   ],
   "source": [
    "sns.histplot(data=counts[counts < 10000])\n",
    "plt.title('Word count distribution')\n",
    "plt.xlabel('Word count')\n",
    "plt.ylabel('Number of documents');"
   ]
  },
  {
   "cell_type": "markdown",
   "id": "726138bd",
   "metadata": {
    "hidden": true
   },
   "source": [
    "There are some special documents (more than 10k words), but their analysis is not our focus. In general, documents are shorter than 6k words, with mode around 1k."
   ]
  },
  {
   "cell_type": "markdown",
   "id": "ff669780",
   "metadata": {
    "hidden": true
   },
   "source": [
    "Although document titles are the same, many of them share the same raw text."
   ]
  },
  {
   "cell_type": "code",
   "execution_count": 11,
   "id": "111d3e5c",
   "metadata": {
    "hidden": true
   },
   "outputs": [
    {
     "data": {
      "text/plain": [
       "0.11474298821812115"
      ]
     },
     "execution_count": 11,
     "metadata": {},
     "output_type": "execute_result"
    }
   ],
   "source": [
    "df.raw_text.duplicated().sum()/len(df)"
   ]
  },
  {
   "cell_type": "markdown",
   "id": "deeefb47",
   "metadata": {
    "hidden": true
   },
   "source": [
    "This ``duplicate'' rate is around 11\\%, and can also impact our subsequent analysis. This way, we need to work around these duplicated documents before fitting out models."
   ]
  },
  {
   "cell_type": "markdown",
   "id": "3405d6c5",
   "metadata": {
    "hidden": true
   },
   "source": [
    "Finally, one could want to see the distribution of publication date."
   ]
  },
  {
   "cell_type": "code",
   "execution_count": 12,
   "id": "34b6b1da",
   "metadata": {
    "hidden": true
   },
   "outputs": [
    {
     "data": {
      "image/png": "[encoded data removed]",
      "text/plain": [
       "<Figure size 432x288 with 1 Axes>"
      ]
     },
     "metadata": {},
     "output_type": "display_data"
    }
   ],
   "source": [
    "dates = np.array(pd.to_datetime(df.date).to_list())\n",
    "sns.histplot(data=dates)\n",
    "plt.title('Publication date distribution')\n",
    "plt.xlabel('Publication date')\n",
    "plt.ylabel('Number of documents');"
   ]
  },
  {
   "cell_type": "code",
   "execution_count": 13,
   "id": "c70bd0b0",
   "metadata": {
    "hidden": true
   },
   "outputs": [
    {
     "data": {
      "text/plain": [
       "(Timestamp('2003-11-28 00:00:00'), Timestamp('2018-12-19 00:00:00'))"
      ]
     },
     "execution_count": 13,
     "metadata": {},
     "output_type": "execute_result"
    }
   ],
   "source": [
    "np.min(dates[dates > pd.to_datetime('1970')]), np.max(dates[dates > pd.to_datetime('1970')])"
   ]
  },
  {
   "cell_type": "markdown",
   "id": "77b10eef",
   "metadata": {
    "hidden": true
   },
   "source": [
    "Date distribution has support between 2003 and 2018, but it really concentrates itself between 2008 and 2018. It is clear that many documents have publication year 1970, however this information is acting like a missing value. Although this is problematic, that is, many documents do not have publication date, it will not impact our models, because we will work only with raw texts."
   ]
  },
  {
   "cell_type": "markdown",
   "id": "departmental-stick",
   "metadata": {},
   "source": [
    "## Methodology"
   ]
  },
  {
   "cell_type": "markdown",
   "id": "7a6c8b26",
   "metadata": {
    "heading_collapsed": true
   },
   "source": [
    "### Dataset split"
   ]
  },
  {
   "cell_type": "markdown",
   "id": "3446de48",
   "metadata": {
    "hidden": true
   },
   "source": [
    "The main goal of this work is to assert whether traditional machine learning models can ``separate'' documents according to BP citations. We will create two datasets, training and test datasets, that will be used to fit and to test the models, respectively. Some of the models will be fitted in training dataset in a cross validation style, i.e., training data will be splitted in K sets, and, for each set, the model is fitted in all other sets and validated in this set; in the end all metrics are aggregated. This is very usefull in the task of choosing hyperparameters of some models.\n",
    "\n",
    "- Each document cites one BP\n",
    "- Remove duplicates\n",
    "- 4 most cited BPs\n",
    "- Balanced dataset\n",
    "- Supervised\n",
    "    - training set\n",
    "    - test set\n",
    "    - cross validation"
   ]
  },
  {
   "cell_type": "markdown",
   "id": "8aaf5148",
   "metadata": {
    "heading_collapsed": true
   },
   "source": [
    "### Text preprocessing"
   ]
  },
  {
   "cell_type": "markdown",
   "id": "0fd3b9b9",
   "metadata": {
    "hidden": true
   },
   "source": [
    "- lowercase\n",
    "- tokenize\n",
    "- lemmatization\n",
    "- stopwords\n",
    "- punctuation"
   ]
  },
  {
   "cell_type": "markdown",
   "id": "007615e7",
   "metadata": {
    "heading_collapsed": true
   },
   "source": [
    "### Document embeddings"
   ]
  },
  {
   "cell_type": "markdown",
   "id": "8f7fe6fc",
   "metadata": {
    "hidden": true
   },
   "source": [
    "- TF-IDF\n",
    "<!-- - Doc2vec -->\n",
    "<!-- - Universal Sentence Encoder -->\n",
    "- Dimensionality reduction\n",
    "    - Truncated SVD\n",
    "- scaler\n",
    "<!-- - more vectors? -->"
   ]
  },
  {
   "cell_type": "markdown",
   "id": "0aafe812",
   "metadata": {},
   "source": [
    "### Machine learning models"
   ]
  },
  {
   "cell_type": "markdown",
   "id": "b0df1fc3",
   "metadata": {},
   "source": [
    "- Linear regression\n",
    "    - Ridge\n",
    "<!--     - LASSO -->\n",
    "- Logistic regression\n",
    "- Linear Discriminant Analysis\n",
    "<!-- - QDA -->\n",
    "- KNN\n",
    "<!-- - Árvores -->\n",
    "<!-- - Bagging -->\n",
    "- Random forest\n",
    "<!-- - Boosting -->\n",
    "- Support Vector Machines\n",
    "- Principal Component Analysis\n",
    "- K-means\n",
    "- Hierarchical clustering\n",
    "<!-- - Gaussian Mixture -->\n",
    "- Latent Dirichlet Analysis"
   ]
  },
  {
   "cell_type": "markdown",
   "id": "1b868497",
   "metadata": {
    "heading_collapsed": true
   },
   "source": [
    "### Performance metrics"
   ]
  },
  {
   "cell_type": "markdown",
   "id": "5043938e",
   "metadata": {
    "hidden": true
   },
   "source": [
    "- Accuracy\n",
    "- Confusion matrix\n",
    "<!-- - RoC curve -->\n",
    "<!-- - Cross validation -->\n",
    "- recall\n",
    "- precision"
   ]
  },
  {
   "cell_type": "markdown",
   "id": "growing-engineering",
   "metadata": {},
   "source": [
    "## Results and discussion"
   ]
  },
  {
   "cell_type": "markdown",
   "id": "0ea513b4",
   "metadata": {
    "heading_collapsed": true
   },
   "source": [
    "### Dataset split and text preprocessing"
   ]
  },
  {
   "cell_type": "code",
   "execution_count": 14,
   "id": "2bd22d2c",
   "metadata": {
    "hidden": true
   },
   "outputs": [],
   "source": [
    "def one_citation(i_cite):\n",
    "    '''Assert whether the document cites only one BP.'''\n",
    "    pattern = 'sum. vinc. [0-9]{1,2}'\n",
    "    citations = re.findall(pattern, i_cite)\n",
    "    if len(set(citations)) == 1:\n",
    "        return True\n",
    "    return False"
   ]
  },
  {
   "cell_type": "code",
   "execution_count": 15,
   "id": "698097ef",
   "metadata": {
    "hidden": true
   },
   "outputs": [],
   "source": [
    "sizes = dict()\n",
    "for bp in range(1, 58+1):\n",
    "    df = dfs[bp-1]\n",
    "    if df is not None:\n",
    "        df = df[df.i_cite.apply(lambda x: one_citation(x))]\n",
    "        df = df[~df.raw_text.duplicated()]\n",
    "        df['label'] = bp\n",
    "        dfs[bp-1] = df\n",
    "        sizes[bp] = len(df)\n",
    "    else:\n",
    "        sizes[bp] = 0"
   ]
  },
  {
   "cell_type": "code",
   "execution_count": 16,
   "id": "31f659fb",
   "metadata": {
    "hidden": true,
    "scrolled": true
   },
   "outputs": [
    {
     "data": {
      "text/plain": [
       "[(10, 13094), (37, 2917), (4, 2540), (20, 1582), (14, 1401)]"
      ]
     },
     "execution_count": 16,
     "metadata": {},
     "output_type": "execute_result"
    }
   ],
   "source": [
    "sorted(sizes.items(), key=lambda x: x[1], reverse=True)[:5]"
   ]
  },
  {
   "cell_type": "code",
   "execution_count": 17,
   "id": "4e5fd670",
   "metadata": {
    "hidden": true
   },
   "outputs": [],
   "source": [
    "df_10 = dfs[10-1].sample(1401, random_state=42)\n",
    "df_37 = dfs[37-1].sample(1401, random_state=42)\n",
    "df_4 = dfs[4-1].sample(1401, random_state=42)\n",
    "df_20 = dfs[20-1].sample(1401, random_state=42)\n",
    "df_14 = dfs[14-1].sample(1401, random_state=42)"
   ]
  },
  {
   "cell_type": "code",
   "execution_count": 18,
   "id": "da294995",
   "metadata": {
    "hidden": true
   },
   "outputs": [
    {
     "data": {
      "text/html": [
       "<div>\n",
       "<style scoped>\n",
       "    .dataframe tbody tr th:only-of-type {\n",
       "        vertical-align: middle;\n",
       "    }\n",
       "\n",
       "    .dataframe tbody tr th {\n",
       "        vertical-align: top;\n",
       "    }\n",
       "\n",
       "    .dataframe thead th {\n",
       "        text-align: right;\n",
       "    }\n",
       "</style>\n",
       "<table border=\"1\" class=\"dataframe\">\n",
       "  <thead>\n",
       "    <tr style=\"text-align: right;\">\n",
       "      <th></th>\n",
       "      <th>title</th>\n",
       "      <th>raw_text</th>\n",
       "      <th>i_cite</th>\n",
       "      <th>date</th>\n",
       "      <th>label</th>\n",
       "    </tr>\n",
       "  </thead>\n",
       "  <tbody>\n",
       "    <tr>\n",
       "      <th>0</th>\n",
       "      <td>20091014_Rcl_8918_2675717</td>\n",
       "      <td>DECISÃO: 1. Trata-se de reclamação ajuizada pe...</td>\n",
       "      <td>['sum. vinc. 10 N/A STF N/A', 'rcl 2716 222994...</td>\n",
       "      <td>2009-10-14</td>\n",
       "      <td>10</td>\n",
       "    </tr>\n",
       "    <tr>\n",
       "      <th>1</th>\n",
       "      <td>20131119_Rcl_16548_184585137</td>\n",
       "      <td>MEDIDA CAUTELAR NA RECLAMAÇÃO 16.548 RIO GRAND...</td>\n",
       "      <td>['sum. vinc. 10 N/A STF N/A 11937 1187', 'sum....</td>\n",
       "      <td>2013-11-19</td>\n",
       "      <td>10</td>\n",
       "    </tr>\n",
       "    <tr>\n",
       "      <th>2</th>\n",
       "      <td>20110927_ARE_652911_1607711</td>\n",
       "      <td>DJe 06/12/2011\\n\\nEmenta e Acórdão\\n\\n27/09/20...</td>\n",
       "      <td>['sum. vinc. 10 N/A STF N/A 11937 1187', 're 5...</td>\n",
       "      <td>2011-09-27</td>\n",
       "      <td>10</td>\n",
       "    </tr>\n",
       "    <tr>\n",
       "      <th>3</th>\n",
       "      <td>20170621_ARE_1052676_312039223</td>\n",
       "      <td>RECURSO EXTRAORDINÁRIO COM AGRAVO 1.052.676 DI...</td>\n",
       "      <td>['sum. vinc. 10 N/A STF N/A 11937 1187', 'are ...</td>\n",
       "      <td>2017-06-21</td>\n",
       "      <td>10</td>\n",
       "    </tr>\n",
       "    <tr>\n",
       "      <th>4</th>\n",
       "      <td>19700101_Rcl_8890_3256407</td>\n",
       "      <td>DECISÃO: Trata-se de reclamação, ajuizada pelo...</td>\n",
       "      <td>['sum. vinc. 10 N/A STF N/A', 're 240096 17380...</td>\n",
       "      <td>1970-01-01</td>\n",
       "      <td>10</td>\n",
       "    </tr>\n",
       "    <tr>\n",
       "      <th>...</th>\n",
       "      <td>...</td>\n",
       "      <td>...</td>\n",
       "      <td>...</td>\n",
       "      <td>...</td>\n",
       "      <td>...</td>\n",
       "    </tr>\n",
       "    <tr>\n",
       "      <th>7000</th>\n",
       "      <td>20161028_RE_771482_310624548</td>\n",
       "      <td>RECURSO EXTRAORDINÁRIO 771.482 DISTRITO FEDERA...</td>\n",
       "      <td>['re 593727 2641697 STF QO 252 27', 're 872628...</td>\n",
       "      <td>2016-10-28</td>\n",
       "      <td>14</td>\n",
       "    </tr>\n",
       "    <tr>\n",
       "      <th>7001</th>\n",
       "      <td>19700101_Rcl_9363_3456757</td>\n",
       "      <td>DESPACHO\\n\\nRECLAMAÇÃO. PROCESSO PENAL. INQUÉR...</td>\n",
       "      <td>['aco 808 2322945 STF N/A', 'ms 27405 2625481 ...</td>\n",
       "      <td>1970-01-01</td>\n",
       "      <td>14</td>\n",
       "    </tr>\n",
       "    <tr>\n",
       "      <th>7002</th>\n",
       "      <td>20120327_HC_85202_3109294</td>\n",
       "      <td>DECISÃO: No presente habeas corpus, a defesa r...</td>\n",
       "      <td>['hc 84548 2229923 STF N/A', 'hc 84965 2250572...</td>\n",
       "      <td>2012-03-27</td>\n",
       "      <td>14</td>\n",
       "    </tr>\n",
       "    <tr>\n",
       "      <th>7003</th>\n",
       "      <td>20130808_Rcl_16019_161421263</td>\n",
       "      <td>MEDIDA CAUTELAR NA RECLAMAÇÃO 16.019 MARANHÃO\\...</td>\n",
       "      <td>['sum. vinc. 14 N/A STF N/A 978 150', 'hc 2112...</td>\n",
       "      <td>2013-08-08</td>\n",
       "      <td>14</td>\n",
       "    </tr>\n",
       "    <tr>\n",
       "      <th>7004</th>\n",
       "      <td>20161024_Inq_3989_310575205</td>\n",
       "      <td>INQUÉRITO 3.989 DISTRITO FEDERAL\\n\\nRELATOR : ...</td>\n",
       "      <td>['ac 3908 4799169 STF N/A', 'inq 3014 3946068 ...</td>\n",
       "      <td>2016-10-24</td>\n",
       "      <td>14</td>\n",
       "    </tr>\n",
       "  </tbody>\n",
       "</table>\n",
       "<p>7005 rows × 5 columns</p>\n",
       "</div>"
      ],
      "text/plain": [
       "                               title  \\\n",
       "0          20091014_Rcl_8918_2675717   \n",
       "1       20131119_Rcl_16548_184585137   \n",
       "2        20110927_ARE_652911_1607711   \n",
       "3     20170621_ARE_1052676_312039223   \n",
       "4          19700101_Rcl_8890_3256407   \n",
       "...                              ...   \n",
       "7000    20161028_RE_771482_310624548   \n",
       "7001       19700101_Rcl_9363_3456757   \n",
       "7002       20120327_HC_85202_3109294   \n",
       "7003    20130808_Rcl_16019_161421263   \n",
       "7004     20161024_Inq_3989_310575205   \n",
       "\n",
       "                                               raw_text  \\\n",
       "0     DECISÃO: 1. Trata-se de reclamação ajuizada pe...   \n",
       "1     MEDIDA CAUTELAR NA RECLAMAÇÃO 16.548 RIO GRAND...   \n",
       "2     DJe 06/12/2011\\n\\nEmenta e Acórdão\\n\\n27/09/20...   \n",
       "3     RECURSO EXTRAORDINÁRIO COM AGRAVO 1.052.676 DI...   \n",
       "4     DECISÃO: Trata-se de reclamação, ajuizada pelo...   \n",
       "...                                                 ...   \n",
       "7000  RECURSO EXTRAORDINÁRIO 771.482 DISTRITO FEDERA...   \n",
       "7001  DESPACHO\\n\\nRECLAMAÇÃO. PROCESSO PENAL. INQUÉR...   \n",
       "7002  DECISÃO: No presente habeas corpus, a defesa r...   \n",
       "7003  MEDIDA CAUTELAR NA RECLAMAÇÃO 16.019 MARANHÃO\\...   \n",
       "7004  INQUÉRITO 3.989 DISTRITO FEDERAL\\n\\nRELATOR : ...   \n",
       "\n",
       "                                                 i_cite        date  label  \n",
       "0     ['sum. vinc. 10 N/A STF N/A', 'rcl 2716 222994...  2009-10-14     10  \n",
       "1     ['sum. vinc. 10 N/A STF N/A 11937 1187', 'sum....  2013-11-19     10  \n",
       "2     ['sum. vinc. 10 N/A STF N/A 11937 1187', 're 5...  2011-09-27     10  \n",
       "3     ['sum. vinc. 10 N/A STF N/A 11937 1187', 'are ...  2017-06-21     10  \n",
       "4     ['sum. vinc. 10 N/A STF N/A', 're 240096 17380...  1970-01-01     10  \n",
       "...                                                 ...         ...    ...  \n",
       "7000  ['re 593727 2641697 STF QO 252 27', 're 872628...  2016-10-28     14  \n",
       "7001  ['aco 808 2322945 STF N/A', 'ms 27405 2625481 ...  1970-01-01     14  \n",
       "7002  ['hc 84548 2229923 STF N/A', 'hc 84965 2250572...  2012-03-27     14  \n",
       "7003  ['sum. vinc. 14 N/A STF N/A 978 150', 'hc 2112...  2013-08-08     14  \n",
       "7004  ['ac 3908 4799169 STF N/A', 'inq 3014 3946068 ...  2016-10-24     14  \n",
       "\n",
       "[7005 rows x 5 columns]"
      ]
     },
     "execution_count": 18,
     "metadata": {},
     "output_type": "execute_result"
    }
   ],
   "source": [
    "df = pd.concat([df_10, df_37, df_4, df_20, df_14], ignore_index=True)\n",
    "df"
   ]
  },
  {
   "cell_type": "code",
   "execution_count": 19,
   "id": "a77e2dda",
   "metadata": {
    "hidden": true
   },
   "outputs": [],
   "source": [
    "X = df.raw_text.to_list()\n",
    "y = np.array(df.label.to_list())"
   ]
  },
  {
   "cell_type": "code",
   "execution_count": 20,
   "id": "dfe2187a",
   "metadata": {
    "hidden": true
   },
   "outputs": [],
   "source": [
    "nlp = spacy.load('pt_core_news_sm', disable=['tagger', 'parser', 'ner'])\n",
    "\n",
    "def preprocessing(text):\n",
    "    '''Basic text preprocessing.'''\n",
    "    # Tokenize, lowercase, lemmatize, and remove stopwords and punctuation\n",
    "    text = nlp(text)\n",
    "    text = [token.lemma_.lower() for token in text if not token.is_stop and not token.is_punct]\n",
    "    text = [token for token in text if token not in ['\\n', '\\n\\n', '\\n\\n\\n', '>', '<', 'c', 'e', 'o']]\n",
    "    return ' '.join(text)"
   ]
  },
  {
   "cell_type": "code",
   "execution_count": 21,
   "id": "587e9e3e",
   "metadata": {
    "hidden": true
   },
   "outputs": [
    {
     "data": {
      "application/vnd.jupyter.widget-view+json": {
       "model_id": "1659f91518a64266a4141aafb02849dc",
       "version_major": 2,
       "version_minor": 0
      },
      "text/plain": [
       "  0%|          | 0/7005 [00:00<?, ?it/s]"
      ]
     },
     "metadata": {},
     "output_type": "display_data"
    }
   ],
   "source": [
    "X = [preprocessing(x) for x in tqdm(X)]"
   ]
  },
  {
   "cell_type": "code",
   "execution_count": 22,
   "id": "98e2916d",
   "metadata": {
    "hidden": true
   },
   "outputs": [],
   "source": [
    "X_train, X_test, y_train, y_test = train_test_split(\n",
    "    X,\n",
    "    y,\n",
    "    test_size=0.2,\n",
    "    random_state=42,\n",
    "    shuffle=True,\n",
    "    stratify=y\n",
    ")"
   ]
  },
  {
   "cell_type": "code",
   "execution_count": 23,
   "id": "d1db435d",
   "metadata": {
    "hidden": true
   },
   "outputs": [],
   "source": [
    "stk = StratifiedKFold(n_splits=5, shuffle=True, random_state=42)"
   ]
  },
  {
   "cell_type": "markdown",
   "id": "baa8a44e",
   "metadata": {
    "heading_collapsed": true
   },
   "source": [
    "### Document embedding"
   ]
  },
  {
   "cell_type": "code",
   "execution_count": 24,
   "id": "16213b34",
   "metadata": {
    "hidden": true
   },
   "outputs": [
    {
     "data": {
      "text/plain": [
       "((5604, 44550), (1401, 44550))"
      ]
     },
     "execution_count": 24,
     "metadata": {},
     "output_type": "execute_result"
    }
   ],
   "source": [
    "tf_idf = TfidfVectorizer(\n",
    "    lowercase=False,\n",
    "    smooth_idf=True\n",
    ")\n",
    "\n",
    "X_train = tf_idf.fit_transform(X_train)\n",
    "X_test = tf_idf.transform(X_test)\n",
    "X_train.shape, X_test.shape"
   ]
  },
  {
   "cell_type": "code",
   "execution_count": 25,
   "id": "ecc9e274",
   "metadata": {
    "hidden": true
   },
   "outputs": [
    {
     "data": {
      "text/plain": [
       "((5604, 50), (1401, 50))"
      ]
     },
     "execution_count": 25,
     "metadata": {},
     "output_type": "execute_result"
    }
   ],
   "source": [
    "t_svd = TruncatedSVD(\n",
    "    n_components=50,\n",
    "    random_state=42\n",
    ")\n",
    "X_train = t_svd.fit_transform(X_train)\n",
    "X_test = t_svd.transform(X_test)\n",
    "X_train.shape, X_test.shape"
   ]
  },
  {
   "cell_type": "code",
   "execution_count": 26,
   "id": "1e42e8a8",
   "metadata": {
    "hidden": true
   },
   "outputs": [],
   "source": [
    "scaler = StandardScaler()\n",
    "X_train_scaled = scaler.fit_transform(X_train)\n",
    "X_test_scaled = scaler.transform(X_test)"
   ]
  },
  {
   "cell_type": "markdown",
   "id": "12e078de",
   "metadata": {},
   "source": [
    "### Machine learning models"
   ]
  },
  {
   "cell_type": "markdown",
   "id": "2394753e",
   "metadata": {},
   "source": [
    "#### Linear regression"
   ]
  },
  {
   "cell_type": "code",
   "execution_count": 27,
   "id": "36c331a1",
   "metadata": {},
   "outputs": [],
   "source": [
    "sns.set_style('white')"
   ]
  },
  {
   "cell_type": "code",
   "execution_count": 28,
   "id": "99a6f6b4",
   "metadata": {},
   "outputs": [],
   "source": [
    "def evaluate(clf, X_test, y_test):\n",
    "    '''Evaluate our model.'''\n",
    "    print(classification_report(y_test, clf.predict(X_test)))\n",
    "    plot_confusion_matrix(\n",
    "        clf,\n",
    "        X_test,\n",
    "        y_test,\n",
    "        cmap=plt.cm.Blues,\n",
    "        normalize='true'\n",
    "    )"
   ]
  },
  {
   "cell_type": "code",
   "execution_count": 29,
   "id": "7b53aeb1",
   "metadata": {},
   "outputs": [
    {
     "name": "stdout",
     "output_type": "stream",
     "text": [
      "              precision    recall  f1-score   support\n",
      "\n",
      "           4       0.96      0.91      0.94       280\n",
      "          10       0.94      0.93      0.93       280\n",
      "          14       0.94      0.99      0.96       280\n",
      "          20       0.99      0.95      0.97       281\n",
      "          37       0.90      0.95      0.93       280\n",
      "\n",
      "    accuracy                           0.95      1401\n",
      "   macro avg       0.95      0.95      0.95      1401\n",
      "weighted avg       0.95      0.95      0.95      1401\n",
      "\n"
     ]
    },
    {
     "data": {
      "image/png": "[encoded data removed]",
      "text/plain": [
       "<Figure size 432x288 with 2 Axes>"
      ]
     },
     "metadata": {},
     "output_type": "display_data"
    }
   ],
   "source": [
    "ridge = RidgeClassifierCV(\n",
    "    cv=stk\n",
    ")\n",
    "\n",
    "ridge.fit(X_train_scaled, y_train)\n",
    "\n",
    "evaluate(ridge, X_test_scaled, y_test)"
   ]
  },
  {
   "cell_type": "markdown",
   "id": "4a18b982",
   "metadata": {},
   "source": [
    "#### Logistic regression"
   ]
  },
  {
   "cell_type": "code",
   "execution_count": 30,
   "id": "e756398d",
   "metadata": {},
   "outputs": [
    {
     "name": "stderr",
     "output_type": "stream",
     "text": [
      "[Parallel(n_jobs=-1)]: Using backend LokyBackend with 8 concurrent workers.\n",
      "[Parallel(n_jobs=-1)]: Done   2 out of   5 | elapsed:    9.8s remaining:   14.7s\n",
      "[Parallel(n_jobs=-1)]: Done   5 out of   5 | elapsed:   14.5s finished\n"
     ]
    },
    {
     "name": "stdout",
     "output_type": "stream",
     "text": [
      "              precision    recall  f1-score   support\n",
      "\n",
      "           4       0.98      0.97      0.97       280\n",
      "          10       0.96      0.96      0.96       280\n",
      "          14       0.98      0.99      0.99       280\n",
      "          20       0.97      0.97      0.97       281\n",
      "          37       0.95      0.96      0.95       280\n",
      "\n",
      "    accuracy                           0.97      1401\n",
      "   macro avg       0.97      0.97      0.97      1401\n",
      "weighted avg       0.97      0.97      0.97      1401\n",
      "\n"
     ]
    },
    {
     "data": {
      "image/png": "[encoded data removed]",
      "text/plain": [
       "<Figure size 432x288 with 2 Axes>"
      ]
     },
     "metadata": {},
     "output_type": "display_data"
    }
   ],
   "source": [
    "lr = LogisticRegressionCV(\n",
    "    Cs=10,\n",
    "    cv=stk,\n",
    "    n_jobs=-1,\n",
    "    verbose=1,\n",
    "    random_state=42,\n",
    "    max_iter=1000\n",
    ")\n",
    "\n",
    "lr.fit(X_train_scaled, y_train)\n",
    "\n",
    "evaluate(lr, X_test_scaled, y_test)"
   ]
  },
  {
   "cell_type": "markdown",
   "id": "7e66785b",
   "metadata": {},
   "source": [
    "#### Linear Discriminant Analysis"
   ]
  },
  {
   "cell_type": "code",
   "execution_count": 31,
   "id": "460fed9e",
   "metadata": {},
   "outputs": [
    {
     "name": "stdout",
     "output_type": "stream",
     "text": [
      "              precision    recall  f1-score   support\n",
      "\n",
      "           4       0.97      0.91      0.94       280\n",
      "          10       0.91      0.95      0.93       280\n",
      "          14       0.97      0.99      0.98       280\n",
      "          20       0.99      0.93      0.96       281\n",
      "          37       0.90      0.96      0.93       280\n",
      "\n",
      "    accuracy                           0.95      1401\n",
      "   macro avg       0.95      0.95      0.95      1401\n",
      "weighted avg       0.95      0.95      0.95      1401\n",
      "\n"
     ]
    },
    {
     "data": {
      "image/png": "[encoded data removed]",
      "text/plain": [
       "<Figure size 432x288 with 2 Axes>"
      ]
     },
     "metadata": {},
     "output_type": "display_data"
    }
   ],
   "source": [
    "lda = LinearDiscriminantAnalysis()\n",
    "lda.fit(X_train_scaled, y_train)\n",
    "evaluate(lda, X_test_scaled, y_test)"
   ]
  },
  {
   "cell_type": "markdown",
   "id": "c8119866",
   "metadata": {},
   "source": [
    "#### K-nearest neighbours"
   ]
  },
  {
   "cell_type": "code",
   "execution_count": 32,
   "id": "5074d2ee",
   "metadata": {},
   "outputs": [
    {
     "name": "stdout",
     "output_type": "stream",
     "text": [
      "Fitting 5 folds for each of 40 candidates, totalling 200 fits\n",
      "CPU times: user 607 ms, sys: 21.6 ms, total: 628 ms\n",
      "Wall time: 19.6 s\n"
     ]
    },
    {
     "data": {
      "text/plain": [
       "{'n_neighbors': 1}"
      ]
     },
     "execution_count": 32,
     "metadata": {},
     "output_type": "execute_result"
    }
   ],
   "source": [
    "%%time\n",
    "\n",
    "knn = GridSearchCV(\n",
    "    KNeighborsClassifier(n_jobs=-1),\n",
    "    param_grid={\n",
    "        'n_neighbors': list(range(1, 200+1, 5))\n",
    "    },\n",
    "    n_jobs=-1,\n",
    "    cv=stk,\n",
    "    verbose=3\n",
    ")\n",
    "\n",
    "knn.fit(X_train_scaled, y_train)\n",
    "knn.best_params_"
   ]
  },
  {
   "cell_type": "code",
   "execution_count": 33,
   "id": "e10451c3",
   "metadata": {},
   "outputs": [
    {
     "name": "stdout",
     "output_type": "stream",
     "text": [
      "              precision    recall  f1-score   support\n",
      "\n",
      "           4       0.93      0.95      0.94       280\n",
      "          10       0.87      0.90      0.89       280\n",
      "          14       0.95      0.96      0.96       280\n",
      "          20       0.97      0.95      0.96       281\n",
      "          37       0.92      0.90      0.91       280\n",
      "\n",
      "    accuracy                           0.93      1401\n",
      "   macro avg       0.93      0.93      0.93      1401\n",
      "weighted avg       0.93      0.93      0.93      1401\n",
      "\n"
     ]
    },
    {
     "data": {
      "image/png": "[encoded data removed]",
      "text/plain": [
       "<Figure size 432x288 with 2 Axes>"
      ]
     },
     "metadata": {},
     "output_type": "display_data"
    }
   ],
   "source": [
    "evaluate(knn, X_test_scaled, y_test)"
   ]
  },
  {
   "cell_type": "markdown",
   "id": "4ac8d1e0",
   "metadata": {},
   "source": [
    "#### Random forest"
   ]
  },
  {
   "cell_type": "code",
   "execution_count": 34,
   "id": "a8a29679",
   "metadata": {},
   "outputs": [
    {
     "name": "stdout",
     "output_type": "stream",
     "text": [
      "Fitting 5 folds for each of 6 candidates, totalling 30 fits\n"
     ]
    },
    {
     "name": "stderr",
     "output_type": "stream",
     "text": [
      "[Parallel(n_jobs=-1)]: Using backend ThreadingBackend with 8 concurrent workers.\n",
      "[Parallel(n_jobs=-1)]: Done  34 tasks      | elapsed:    0.4s\n"
     ]
    },
    {
     "name": "stdout",
     "output_type": "stream",
     "text": [
      "CPU times: user 7.45 s, sys: 62 ms, total: 7.51 s\n",
      "Wall time: 14.4 s\n"
     ]
    },
    {
     "name": "stderr",
     "output_type": "stream",
     "text": [
      "[Parallel(n_jobs=-1)]: Done 100 out of 100 | elapsed:    1.0s finished\n"
     ]
    },
    {
     "data": {
      "text/plain": [
       "{'max_depth': None, 'n_estimators': 100}"
      ]
     },
     "execution_count": 34,
     "metadata": {},
     "output_type": "execute_result"
    }
   ],
   "source": [
    "%%time\n",
    "\n",
    "rf = GridSearchCV(\n",
    "    RandomForestClassifier(\n",
    "        max_depth=None,\n",
    "        n_jobs=-1,\n",
    "        random_state=random_state,\n",
    "        verbose=1\n",
    "    ),\n",
    "    param_grid={\n",
    "        'n_estimators': [10, 100],\n",
    "        'max_depth': [None, 10, 100],\n",
    "    },\n",
    "    n_jobs=-1,\n",
    "    cv=stk,\n",
    "    verbose=3\n",
    ")\n",
    "\n",
    "rf.fit(X_train_scaled, y_train)\n",
    "rf.best_params_"
   ]
  },
  {
   "cell_type": "code",
   "execution_count": 35,
   "id": "0a67fb67",
   "metadata": {},
   "outputs": [
    {
     "name": "stderr",
     "output_type": "stream",
     "text": [
      "[Parallel(n_jobs=8)]: Using backend ThreadingBackend with 8 concurrent workers.\n",
      "[Parallel(n_jobs=8)]: Done  34 tasks      | elapsed:    0.0s\n",
      "[Parallel(n_jobs=8)]: Done 100 out of 100 | elapsed:    0.1s finished\n",
      "[Parallel(n_jobs=8)]: Using backend ThreadingBackend with 8 concurrent workers.\n",
      "[Parallel(n_jobs=8)]: Done  34 tasks      | elapsed:    0.0s\n",
      "[Parallel(n_jobs=8)]: Done 100 out of 100 | elapsed:    0.1s finished\n"
     ]
    },
    {
     "name": "stdout",
     "output_type": "stream",
     "text": [
      "              precision    recall  f1-score   support\n",
      "\n",
      "           4       0.98      0.96      0.97       280\n",
      "          10       0.91      0.95      0.93       280\n",
      "          14       0.98      0.99      0.99       280\n",
      "          20       0.98      0.96      0.97       281\n",
      "          37       0.94      0.93      0.93       280\n",
      "\n",
      "    accuracy                           0.96      1401\n",
      "   macro avg       0.96      0.96      0.96      1401\n",
      "weighted avg       0.96      0.96      0.96      1401\n",
      "\n"
     ]
    },
    {
     "data": {
      "image/png": "[encoded data removed]",
      "text/plain": [
       "<Figure size 432x288 with 2 Axes>"
      ]
     },
     "metadata": {},
     "output_type": "display_data"
    }
   ],
   "source": [
    "evaluate(rf, X_test_scaled, y_test)"
   ]
  },
  {
   "cell_type": "markdown",
   "id": "3d08d541",
   "metadata": {},
   "source": [
    "#### Support Vector Machine"
   ]
  },
  {
   "cell_type": "code",
   "execution_count": 36,
   "id": "635584da",
   "metadata": {},
   "outputs": [
    {
     "name": "stdout",
     "output_type": "stream",
     "text": [
      "Fitting 5 folds for each of 12 candidates, totalling 60 fits\n",
      "[LibSVM]CPU times: user 835 ms, sys: 5.17 ms, total: 841 ms\n",
      "Wall time: 1min 45s\n"
     ]
    },
    {
     "data": {
      "text/plain": [
       "{'C': 100, 'gamma': 0.001, 'kernel': 'rbf'}"
      ]
     },
     "execution_count": 36,
     "metadata": {},
     "output_type": "execute_result"
    }
   ],
   "source": [
    "%%time\n",
    "\n",
    "svm = GridSearchCV(\n",
    "    SVC(\n",
    "        verbose=True,\n",
    "        random_state=random_state\n",
    "    ),\n",
    "    param_grid=[\n",
    "        {\n",
    "            'kernel': ['rbf'],\n",
    "            'gamma': [1e-3, 1e-4],\n",
    "            'C': [1, 10, 100, 1000]\n",
    "        },\n",
    "        {\n",
    "            'kernel': ['linear'],\n",
    "            'C': [1, 10, 100, 1000]\n",
    "        }\n",
    "    ],\n",
    "    n_jobs=-1,\n",
    "    cv=stk,\n",
    "    verbose=3\n",
    ")\n",
    "\n",
    "svm.fit(X_train_scaled, y_train)\n",
    "svm.best_params_"
   ]
  },
  {
   "cell_type": "code",
   "execution_count": 37,
   "id": "9543d1bc",
   "metadata": {},
   "outputs": [
    {
     "name": "stdout",
     "output_type": "stream",
     "text": [
      "              precision    recall  f1-score   support\n",
      "\n",
      "           4       0.99      0.97      0.98       280\n",
      "          10       0.95      0.97      0.96       280\n",
      "          14       0.98      0.99      0.98       280\n",
      "          20       0.98      0.97      0.98       281\n",
      "          37       0.96      0.96      0.96       280\n",
      "\n",
      "    accuracy                           0.97      1401\n",
      "   macro avg       0.97      0.97      0.97      1401\n",
      "weighted avg       0.97      0.97      0.97      1401\n",
      "\n"
     ]
    },
    {
     "data": {
      "image/png": "[encoded data removed]",
      "text/plain": [
       "<Figure size 432x288 with 2 Axes>"
      ]
     },
     "metadata": {},
     "output_type": "display_data"
    }
   ],
   "source": [
    "evaluate(svm, X_test_scaled, y_test)"
   ]
  },
  {
   "cell_type": "markdown",
   "id": "stupid-plasma",
   "metadata": {},
   "source": [
    "## References"
   ]
  }
 ],
 "metadata": {
  "kernelspec": {
   "display_name": "Python 3",
   "language": "python",
   "name": "python3"
  },
  "language_info": {
   "codemirror_mode": {
    "name": "ipython",
    "version": 3
   },
   "file_extension": ".py",
   "mimetype": "text/x-python",
   "name": "python",
   "nbconvert_exporter": "python",
   "pygments_lexer": "ipython3",
   "version": "3.8.10"
  },
  "toc": {
   "base_numbering": 1,
   "nav_menu": {},
   "number_sections": true,
   "sideBar": true,
   "skip_h1_title": true,
   "title_cell": "Table of Contents",
   "title_sidebar": "Contents",
   "toc_cell": true,
   "toc_position": {},
   "toc_section_display": true,
   "toc_window_display": false
  }
 },
 "nbformat": 4,
 "nbformat_minor": 5
}
