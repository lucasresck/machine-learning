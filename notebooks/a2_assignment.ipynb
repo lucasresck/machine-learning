{
 "cells": [
  {
   "cell_type": "markdown",
   "id": "spanish-violence",
   "metadata": {},
   "source": [
    "# Separability of legal documents according to precedent citations\n",
    "\n",
    "- Lucas Emanuel Resck Domingues\n",
    "- Machine Learning assignment\n",
    "- Professor Rodrigo Targino, FGV-EMAp"
   ]
  },
  {
   "cell_type": "markdown",
   "id": "electronic-stability",
   "metadata": {
    "toc": true
   },
   "source": [
    "<h1>Table of Contents<span class=\"tocSkip\"></span></h1>\n",
    "<div class=\"toc\"><ul class=\"toc-item\"><li><span><a href=\"#Setup\" data-toc-modified-id=\"Setup-1\"><span class=\"toc-item-num\">1&nbsp;&nbsp;</span>Setup</a></span></li><li><span><a href=\"#Introduction\" data-toc-modified-id=\"Introduction-2\"><span class=\"toc-item-num\">2&nbsp;&nbsp;</span>Introduction</a></span></li><li><span><a href=\"#Dataset\" data-toc-modified-id=\"Dataset-3\"><span class=\"toc-item-num\">3&nbsp;&nbsp;</span>Dataset</a></span><ul class=\"toc-item\"><li><span><a href=\"#Binding-Precedents\" data-toc-modified-id=\"Binding-Precedents-3.1\"><span class=\"toc-item-num\">3.1&nbsp;&nbsp;</span>Binding Precedents</a></span></li><li><span><a href=\"#Dataset-description\" data-toc-modified-id=\"Dataset-description-3.2\"><span class=\"toc-item-num\">3.2&nbsp;&nbsp;</span>Dataset description</a></span></li><li><span><a href=\"#Exploratory-Data-Analysis\" data-toc-modified-id=\"Exploratory-Data-Analysis-3.3\"><span class=\"toc-item-num\">3.3&nbsp;&nbsp;</span>Exploratory Data Analysis</a></span></li></ul></li><li><span><a href=\"#Methodology\" data-toc-modified-id=\"Methodology-4\"><span class=\"toc-item-num\">4&nbsp;&nbsp;</span>Methodology</a></span><ul class=\"toc-item\"><li><span><a href=\"#Dataset-split\" data-toc-modified-id=\"Dataset-split-4.1\"><span class=\"toc-item-num\">4.1&nbsp;&nbsp;</span>Dataset split</a></span></li><li><span><a href=\"#Text-preprocessing\" data-toc-modified-id=\"Text-preprocessing-4.2\"><span class=\"toc-item-num\">4.2&nbsp;&nbsp;</span>Text preprocessing</a></span></li><li><span><a href=\"#Document-embeddings\" data-toc-modified-id=\"Document-embeddings-4.3\"><span class=\"toc-item-num\">4.3&nbsp;&nbsp;</span>Document embeddings</a></span></li><li><span><a href=\"#Machine-learning-models\" data-toc-modified-id=\"Machine-learning-models-4.4\"><span class=\"toc-item-num\">4.4&nbsp;&nbsp;</span>Machine learning models</a></span></li><li><span><a href=\"#Performance-metrics\" data-toc-modified-id=\"Performance-metrics-4.5\"><span class=\"toc-item-num\">4.5&nbsp;&nbsp;</span>Performance metrics</a></span></li></ul></li><li><span><a href=\"#Results-and-discussion\" data-toc-modified-id=\"Results-and-discussion-5\"><span class=\"toc-item-num\">5&nbsp;&nbsp;</span>Results and discussion</a></span><ul class=\"toc-item\"><li><span><a href=\"#Dataset-split-and-text-preprocessing\" data-toc-modified-id=\"Dataset-split-and-text-preprocessing-5.1\"><span class=\"toc-item-num\">5.1&nbsp;&nbsp;</span>Dataset split and text preprocessing</a></span></li><li><span><a href=\"#Text-preprocessing\" data-toc-modified-id=\"Text-preprocessing-5.2\"><span class=\"toc-item-num\">5.2&nbsp;&nbsp;</span>Text preprocessing</a></span></li></ul></li><li><span><a href=\"#References\" data-toc-modified-id=\"References-6\"><span class=\"toc-item-num\">6&nbsp;&nbsp;</span>References</a></span></li></ul></div>"
   ]
  },
  {
   "cell_type": "markdown",
   "id": "packed-determination",
   "metadata": {},
   "source": [
    "## Setup"
   ]
  },
  {
   "cell_type": "code",
   "execution_count": 29,
   "id": "worst-header",
   "metadata": {},
   "outputs": [],
   "source": [
    "from sklearn.feature_extraction.text import TfidfVectorizer\n",
    "from sklearn.model_selection import train_test_split\n",
    "import matplotlib.pyplot as plt\n",
    "import numpy as np\n",
    "import os\n",
    "import pandas as pd\n",
    "import re\n",
    "import seaborn as sns\n",
    "\n",
    "sns.set()"
   ]
  },
  {
   "cell_type": "code",
   "execution_count": 2,
   "id": "grave-guarantee",
   "metadata": {},
   "outputs": [],
   "source": [
    "data_path = os.path.join('../data/docs')"
   ]
  },
  {
   "cell_type": "markdown",
   "id": "suspended-prince",
   "metadata": {},
   "source": [
    "## Introduction"
   ]
  },
  {
   "cell_type": "markdown",
   "id": "powerful-drove",
   "metadata": {},
   "source": [
    "The Brazilian Supreme Court (STF) is the highest law court in Brazil. It produces a huge number of documents during its functioning, \\textit{e.g.}, there were produced more than 1 million STF decisions between 2011 and 2020 \\cite{}. STF is not the only institution that deals with overload: it is spread all over the Brazilian Judicial System.\n",
    "\n",
    "One approach to solve this problem is the so-called precedent: when a similar case has to be decided again, this new decision can be taken based on the referenced old decision. This way, cases are solved faster. Many precedents about a subject in a court are consolidated in what is called a ``súmula'', a document that resumes the court understanding about that subject. However, the application of this understanding is not mandatory, and the judge can take a different decision. This situation can lead not only to judicial inefficiency, but also to judicial insecurity: similar cases with different results.\n",
    "\n",
    "With this situation in mind, STF was allowed, in 2004, by Constitutional Amendment, to create \"Súmulas Vinculantes\", which we will call here \"Binding Precedents\", or just BPs. They are basically the old súmulas, but with mandatory application. These BPs are frequently cited in the STF decisions.\n",
    "\n",
    "It seems trivial that documents that cite the same precedents have the same subjects, and documents that cite different precedents have different subjects, in general. However, can machine learning models and algorithms identify this pattern themselves? That is, if a trained machine learning model is presented to a document, can it predict which precedent is being cited? These questions are very relevant because, if the answer is yes, artificial intelligence algorithms can be very helpful in assisting legal experts during their analysis, considering the big number of long legal documents.\n",
    "\n",
    "This situation of predicting the correct precedent is what is being called here as ``separability'' of documents. In this assignment, this separability will consider Binding Precedents in STF decisions. This work is organized as follows."
   ]
  },
  {
   "cell_type": "markdown",
   "id": "accepted-australian",
   "metadata": {},
   "source": [
    "## Dataset"
   ]
  },
  {
   "cell_type": "markdown",
   "id": "labeled-cincinnati",
   "metadata": {},
   "source": [
    "### Binding Precedents"
   ]
  },
  {
   "cell_type": "markdown",
   "id": "multiple-stake",
   "metadata": {},
   "source": [
    "Until June 2021, 58 Binding Precendents have already been created. For example, take a look at BP 10's text:\n",
    "\n",
    "\\textit{``Viola a cláusula de reserva de plenário (CF, artigo 97) a decisão de órgão fracionário de tribunal que, embora não declare expressamente a inconstitucionalidade de lei ou ato normativo do Poder Público, afasta sua incidência, no todo ou em parte.''}\n",
    "\n",
    "Although it can lead to some insights, we are not interested in studying the meaning of all the BPs."
   ]
  },
  {
   "cell_type": "markdown",
   "id": "defensive-brunswick",
   "metadata": {},
   "source": [
    "### Dataset description"
   ]
  },
  {
   "cell_type": "markdown",
   "id": "commercial-finland",
   "metadata": {},
   "source": [
    "The dataset used thoughout this work is composed by decisions generated by STF that cite at least one Binding Precedent. Although these documents are public, they are very difficult to be accessed, mainly when it is necessary a big amount of data. This way, we use a dataset gathered in the context of Supremo em Números project \\cite{}, from FGV's Law School.\n",
    "\n",
    "The dataset, in the way we have it, is composed by 58 CSV files of structured data, with columns:\n",
    "- title: document title, formed by date, document type and an ID;\n",
    "- raw_text: document's raw text;\n",
    "- i_cite: list of cited precedents, including BPs, already extracted from the raw texts;\n",
    "- date: document's publication date.\n",
    "\n",
    "See a sample:"
   ]
  },
  {
   "cell_type": "code",
   "execution_count": 3,
   "id": "manufactured-blackberry",
   "metadata": {},
   "outputs": [
    {
     "data": {
      "text/html": [
       "<div>\n",
       "<style scoped>\n",
       "    .dataframe tbody tr th:only-of-type {\n",
       "        vertical-align: middle;\n",
       "    }\n",
       "\n",
       "    .dataframe tbody tr th {\n",
       "        vertical-align: top;\n",
       "    }\n",
       "\n",
       "    .dataframe thead th {\n",
       "        text-align: right;\n",
       "    }\n",
       "</style>\n",
       "<table border=\"1\" class=\"dataframe\">\n",
       "  <thead>\n",
       "    <tr style=\"text-align: right;\">\n",
       "      <th></th>\n",
       "      <th>title</th>\n",
       "      <th>raw_text</th>\n",
       "      <th>i_cite</th>\n",
       "      <th>date</th>\n",
       "    </tr>\n",
       "  </thead>\n",
       "  <tbody>\n",
       "    <tr>\n",
       "      <th>14980</th>\n",
       "      <td>20161109_Rcl_25539_310673321</td>\n",
       "      <td>MEDIDA CAUTELAR NA RECLAMAÇÃO 25.539 SANTA CAT...</td>\n",
       "      <td>['sum. 339 N/A N/A N/A 11639 403', 'rcl 23712 ...</td>\n",
       "      <td>2016-11-09</td>\n",
       "    </tr>\n",
       "  </tbody>\n",
       "</table>\n",
       "</div>"
      ],
      "text/plain": [
       "                              title  \\\n",
       "14980  20161109_Rcl_25539_310673321   \n",
       "\n",
       "                                                raw_text  \\\n",
       "14980  MEDIDA CAUTELAR NA RECLAMAÇÃO 25.539 SANTA CAT...   \n",
       "\n",
       "                                                  i_cite        date  \n",
       "14980  ['sum. 339 N/A N/A N/A 11639 403', 'rcl 23712 ...  2016-11-09  "
      ]
     },
     "execution_count": 3,
     "metadata": {},
     "output_type": "execute_result"
    }
   ],
   "source": [
    "pd.read_csv(os.path.join(data_path, 'docs_sv_10.csv')).sample()"
   ]
  },
  {
   "cell_type": "code",
   "execution_count": 4,
   "id": "complete-accordance",
   "metadata": {},
   "outputs": [
    {
     "name": "stdout",
     "output_type": "stream",
     "text": [
      "\\begin{tabular}{lllll}\n",
      "\\toprule\n",
      "{} &                         title &                                           raw\\_text &                                    i\\_cite &        date \\\\\n",
      "\\midrule\n",
      "602 &  20170517\\_RE\\_948741\\_311807724 &  RECURSO EXTRAORDINÁRIO 948.741 SANTA CATARINA\\textbackslash ... &  ['sum. vinc. 10 N/A STF N/A 11937 1187'] &  2017-05-17 \\\\\n",
      "\\bottomrule\n",
      "\\end{tabular}\n",
      "\n"
     ]
    }
   ],
   "source": [
    "print(pd.read_csv(os.path.join(data_path, 'docs_sv_10.csv')).sample().to_latex())"
   ]
  },
  {
   "cell_type": "markdown",
   "id": "7b507fe8",
   "metadata": {},
   "source": [
    "This is how an usual document looks like:"
   ]
  },
  {
   "cell_type": "code",
   "execution_count": 5,
   "id": "f5698f4b",
   "metadata": {},
   "outputs": [
    {
     "name": "stdout",
     "output_type": "stream",
     "text": [
      "DECISÃO\n",
      "\n",
      "RECLAMAÇÃO. AÇÃO CIVIL PÚBLICA. LEGISLAÇÃO PERMISSIVA DA PRÁTICA DA QUEIMA DA PALHA DE CANA-DE-AÇÚCAR NÃO ANALISADA NOS ACÓRDÃOS RECLAMADOS PORQUE NÃO APLICÁVEL À ESPÉCIE. SITUAÇÃO EM QUE NÃO OCORRE O AFASTAMENTO DE NORMA EM DESCONFORMIDADE COM O QUE DISPÕE O ART. 97 DA CONSTITUIÇÃO DA REPÚBLICA.   ALEGADO DESCUMPRIMENTO DA SÚMULA VINCULANTE N. 10 DO SUPREMO TRIBUNAL FEDERAL NÃO CONFIGURADO. RECLAMAÇÃO À QUAL SE NEGA SEGUIMENTO.\n",
      "\n",
      "Relatório\n",
      "\n",
      "1. Reclamação, sem pedido de medida liminar, ajuizada por Danielle Marincek Dutra, em 6.1.2010, contra ato da Câmara Especial do Meio Ambiente do Tribunal de Justiça de São Paulo que, nos autos da Apelação Cível n. 836.184-5/8-00, teria descumprido a Súmula Vinculante 10 do Supremo Tribunal Federal.\n",
      "\n",
      "O caso\n",
      "\n",
      "2. Em 29.9.2004, o Ministério Público do Estado de São Paulo ajuizou a Ação Civil Pública n. 1.779/2004 contra YKY Agropecuária Ltda. e Danielle Marincek Dutra (fls. 2-30).\n",
      "\n",
      "Relatou que teriam sido queimados 50 hectares de cana-de-açúca\n"
     ]
    }
   ],
   "source": [
    "print(pd.read_csv(os.path.join(data_path, 'docs_sv_10.csv')).sample().raw_text.iloc[0][:1000])"
   ]
  },
  {
   "cell_type": "markdown",
   "id": "external-massachusetts",
   "metadata": {},
   "source": [
    "### Exploratory Data Analysis"
   ]
  },
  {
   "cell_type": "markdown",
   "id": "analyzed-spectrum",
   "metadata": {},
   "source": [
    "Although the dataset is very simple (few autoexplainable columns), we can analyse it more deeply to better understand it. Let's start, for example, checking how many citations each BP has."
   ]
  },
  {
   "cell_type": "code",
   "execution_count": 6,
   "id": "silent-architect",
   "metadata": {},
   "outputs": [],
   "source": [
    "dfs = []\n",
    "for bp in range(1, 58+1):\n",
    "    try:\n",
    "        df = pd.read_csv(os.path.join(data_path, 'docs_sv_{}.csv'.format(bp)))\n",
    "        dfs.append(df)\n",
    "    except pd.errors.EmptyDataError as e:\n",
    "        dfs.append(None)"
   ]
  },
  {
   "cell_type": "code",
   "execution_count": 7,
   "id": "e287f5b9",
   "metadata": {},
   "outputs": [
    {
     "data": {
      "image/png": "[encoded data removed]",
      "text/plain": [
       "<Figure size 720x360 with 1 Axes>"
      ]
     },
     "metadata": {},
     "output_type": "display_data"
    }
   ],
   "source": [
    "fig, ax = plt.subplots(figsize=(10, 5))\n",
    "sns.barplot(x=list(range(1, 58+1)), y=[len(df) if df is not None else 0 for df in dfs], color='gray', ax=ax)\n",
    "ax.set_xticklabels([str(i) if i % 2 == 0 else '' for i in range(1, 59)])\n",
    "plt.title('Number of citations per Binding Precendent (BP)')\n",
    "plt.xlabel('BP')\n",
    "plt.ylabel('Nº of citations');"
   ]
  },
  {
   "cell_type": "markdown",
   "id": "d3615c77",
   "metadata": {},
   "source": [
    "We see that the number of citations per BP is not uniform. BP 10, for example, has the greates number of citations, followed by 37, 4 and 8. This huge difference in number of citations can impact our analysis if we don't work around it.\n",
    "\n",
    "We already know the documents are long, but one could want to know how long these documents are. If we split each document at whitespaces and newlines and count the number of ``words'', we have an estimative of word count distribution of the documents."
   ]
  },
  {
   "cell_type": "code",
   "execution_count": 8,
   "id": "8694d78a",
   "metadata": {},
   "outputs": [
    {
     "data": {
      "text/html": [
       "<div>\n",
       "<style scoped>\n",
       "    .dataframe tbody tr th:only-of-type {\n",
       "        vertical-align: middle;\n",
       "    }\n",
       "\n",
       "    .dataframe tbody tr th {\n",
       "        vertical-align: top;\n",
       "    }\n",
       "\n",
       "    .dataframe thead th {\n",
       "        text-align: right;\n",
       "    }\n",
       "</style>\n",
       "<table border=\"1\" class=\"dataframe\">\n",
       "  <thead>\n",
       "    <tr style=\"text-align: right;\">\n",
       "      <th></th>\n",
       "      <th>title</th>\n",
       "      <th>raw_text</th>\n",
       "      <th>i_cite</th>\n",
       "      <th>date</th>\n",
       "    </tr>\n",
       "  </thead>\n",
       "  <tbody>\n",
       "    <tr>\n",
       "      <th>0</th>\n",
       "      <td>19700101_RE_422410_3279878</td>\n",
       "      <td>DESPACHO: Dê-se vista à PGR para elaboração de...</td>\n",
       "      <td>['sum. vinc. 1 N/A STF N/A']</td>\n",
       "      <td>1970-01-01</td>\n",
       "    </tr>\n",
       "    <tr>\n",
       "      <th>1</th>\n",
       "      <td>20081111_RE_581675_2329113</td>\n",
       "      <td>DECISÃO\\n\\nVistos.\\n\\nCaixa Econômica Federal ...</td>\n",
       "      <td>['sum. vinc. 1 N/A STF N/A']</td>\n",
       "      <td>2008-11-11</td>\n",
       "    </tr>\n",
       "    <tr>\n",
       "      <th>2</th>\n",
       "      <td>19700101_RE_606035_3280058</td>\n",
       "      <td>DESPACHO: Dê-se vista à PGR para elaboração de...</td>\n",
       "      <td>['sum. vinc. 1 N/A STF N/A']</td>\n",
       "      <td>1970-01-01</td>\n",
       "    </tr>\n",
       "    <tr>\n",
       "      <th>3</th>\n",
       "      <td>19700101_RE_637135_1424289</td>\n",
       "      <td>DJe 05/09/2011\\n\\nDecisão sobre Repercussão Ge...</td>\n",
       "      <td>['sum. vinc. 1 N/A STF N/A']</td>\n",
       "      <td>1970-01-01</td>\n",
       "    </tr>\n",
       "    <tr>\n",
       "      <th>4</th>\n",
       "      <td>20171122_Rcl_28954_313332094</td>\n",
       "      <td>MEDIDA CAUTELAR NA RECLAMAÇÃO 28.954 DISTRITO ...</td>\n",
       "      <td>['sum. vinc. 1 N/A STF N/A 167 15']</td>\n",
       "      <td>2017-11-22</td>\n",
       "    </tr>\n",
       "    <tr>\n",
       "      <th>...</th>\n",
       "      <td>...</td>\n",
       "      <td>...</td>\n",
       "      <td>...</td>\n",
       "      <td>...</td>\n",
       "    </tr>\n",
       "    <tr>\n",
       "      <th>38359</th>\n",
       "      <td>20161205_HC_138632_310876555</td>\n",
       "      <td>MEDIDA CAUTELAR NO HABEAS CORPUS 138.632 MINAS...</td>\n",
       "      <td>['hc 118212 4419627 STF N/A 1728 348', 'hc 668...</td>\n",
       "      <td>2016-12-05</td>\n",
       "    </tr>\n",
       "    <tr>\n",
       "      <th>38360</th>\n",
       "      <td>20181031_HC_162238_15338953871</td>\n",
       "      <td>Ementa e AcórdãoDocumento assinado digitalment...</td>\n",
       "      <td>['hc 108877 3748163 STJ N/A 337 184', 'hc 1360...</td>\n",
       "      <td>2018-10-31</td>\n",
       "    </tr>\n",
       "    <tr>\n",
       "      <th>38361</th>\n",
       "      <td>20181015_HC_152642_15338840024</td>\n",
       "      <td>Ementa e AcórdãoDocumento assinado digitalment...</td>\n",
       "      <td>['sum. 440 N/A STJ N/A 290 72', 'hc 402602 470...</td>\n",
       "      <td>2018-10-15</td>\n",
       "    </tr>\n",
       "    <tr>\n",
       "      <th>38362</th>\n",
       "      <td>20180927_HC_162543_15338719562</td>\n",
       "      <td>Documento assinado digitalmente conforme MP n°...</td>\n",
       "      <td>['aresp 1169 4004318 STJ N/A 4 3', 'hc 108877 ...</td>\n",
       "      <td>2018-09-27</td>\n",
       "    </tr>\n",
       "    <tr>\n",
       "      <th>38363</th>\n",
       "      <td>20171003_Rcl_24769_312869839</td>\n",
       "      <td>RECLAMAÇÃO 24.769 SANTA CATARINA\\n\\nRELATOR : ...</td>\n",
       "      <td>['sum. vinc. 57 N/A STF N/A 1 0', 'as 22 19910...</td>\n",
       "      <td>2017-10-03</td>\n",
       "    </tr>\n",
       "  </tbody>\n",
       "</table>\n",
       "<p>38364 rows × 4 columns</p>\n",
       "</div>"
      ],
      "text/plain": [
       "                                title  \\\n",
       "0          19700101_RE_422410_3279878   \n",
       "1          20081111_RE_581675_2329113   \n",
       "2          19700101_RE_606035_3280058   \n",
       "3          19700101_RE_637135_1424289   \n",
       "4        20171122_Rcl_28954_313332094   \n",
       "...                               ...   \n",
       "38359    20161205_HC_138632_310876555   \n",
       "38360  20181031_HC_162238_15338953871   \n",
       "38361  20181015_HC_152642_15338840024   \n",
       "38362  20180927_HC_162543_15338719562   \n",
       "38363    20171003_Rcl_24769_312869839   \n",
       "\n",
       "                                                raw_text  \\\n",
       "0      DESPACHO: Dê-se vista à PGR para elaboração de...   \n",
       "1      DECISÃO\\n\\nVistos.\\n\\nCaixa Econômica Federal ...   \n",
       "2      DESPACHO: Dê-se vista à PGR para elaboração de...   \n",
       "3      DJe 05/09/2011\\n\\nDecisão sobre Repercussão Ge...   \n",
       "4      MEDIDA CAUTELAR NA RECLAMAÇÃO 28.954 DISTRITO ...   \n",
       "...                                                  ...   \n",
       "38359  MEDIDA CAUTELAR NO HABEAS CORPUS 138.632 MINAS...   \n",
       "38360  Ementa e AcórdãoDocumento assinado digitalment...   \n",
       "38361  Ementa e AcórdãoDocumento assinado digitalment...   \n",
       "38362  Documento assinado digitalmente conforme MP n°...   \n",
       "38363  RECLAMAÇÃO 24.769 SANTA CATARINA\\n\\nRELATOR : ...   \n",
       "\n",
       "                                                  i_cite        date  \n",
       "0                           ['sum. vinc. 1 N/A STF N/A']  1970-01-01  \n",
       "1                           ['sum. vinc. 1 N/A STF N/A']  2008-11-11  \n",
       "2                           ['sum. vinc. 1 N/A STF N/A']  1970-01-01  \n",
       "3                           ['sum. vinc. 1 N/A STF N/A']  1970-01-01  \n",
       "4                    ['sum. vinc. 1 N/A STF N/A 167 15']  2017-11-22  \n",
       "...                                                  ...         ...  \n",
       "38359  ['hc 118212 4419627 STF N/A 1728 348', 'hc 668...  2016-12-05  \n",
       "38360  ['hc 108877 3748163 STJ N/A 337 184', 'hc 1360...  2018-10-31  \n",
       "38361  ['sum. 440 N/A STJ N/A 290 72', 'hc 402602 470...  2018-10-15  \n",
       "38362  ['aresp 1169 4004318 STJ N/A 4 3', 'hc 108877 ...  2018-09-27  \n",
       "38363  ['sum. vinc. 57 N/A STF N/A 1 0', 'as 22 19910...  2017-10-03  \n",
       "\n",
       "[38364 rows x 4 columns]"
      ]
     },
     "execution_count": 8,
     "metadata": {},
     "output_type": "execute_result"
    }
   ],
   "source": [
    "df = pd.concat(dfs, ignore_index=True)\n",
    "df = df[~df.title.duplicated()].reset_index(drop=True)\n",
    "df"
   ]
  },
  {
   "cell_type": "code",
   "execution_count": 9,
   "id": "5680f1cb",
   "metadata": {},
   "outputs": [],
   "source": [
    "counts = np.array(df.raw_text.apply(lambda x: len(x.split())).to_list())"
   ]
  },
  {
   "cell_type": "code",
   "execution_count": 10,
   "id": "434851ba",
   "metadata": {},
   "outputs": [
    {
     "data": {
      "image/png": "[encoded data removed]",
      "text/plain": [
       "<Figure size 432x288 with 1 Axes>"
      ]
     },
     "metadata": {},
     "output_type": "display_data"
    }
   ],
   "source": [
    "sns.histplot(data=counts);"
   ]
  },
  {
   "cell_type": "code",
   "execution_count": 11,
   "id": "debdfaeb",
   "metadata": {},
   "outputs": [
    {
     "data": {
      "image/png": "[encoded data removed]",
      "text/plain": [
       "<Figure size 432x288 with 1 Axes>"
      ]
     },
     "metadata": {},
     "output_type": "display_data"
    }
   ],
   "source": [
    "sns.histplot(data=counts[counts < 10000])\n",
    "plt.title('Word count distribution')\n",
    "plt.xlabel('Word count')\n",
    "plt.ylabel('Number of documents');"
   ]
  },
  {
   "cell_type": "markdown",
   "id": "726138bd",
   "metadata": {},
   "source": [
    "There are some special documents (more than 10k words), but their analysis is not our focus. In general, documents are shorter than 6k words, with mode around 1k."
   ]
  },
  {
   "cell_type": "markdown",
   "id": "ff669780",
   "metadata": {},
   "source": [
    "Although document titles are the same, many of them share the same raw text."
   ]
  },
  {
   "cell_type": "code",
   "execution_count": 12,
   "id": "111d3e5c",
   "metadata": {},
   "outputs": [
    {
     "data": {
      "text/plain": [
       "0.11474298821812115"
      ]
     },
     "execution_count": 12,
     "metadata": {},
     "output_type": "execute_result"
    }
   ],
   "source": [
    "df.raw_text.duplicated().sum()/len(df)"
   ]
  },
  {
   "cell_type": "markdown",
   "id": "deeefb47",
   "metadata": {},
   "source": [
    "This ``duplicate'' rate is around 11\\%, and can also impact our subsequent analysis. This way, we need to work around these duplicated documents before fitting out models."
   ]
  },
  {
   "cell_type": "markdown",
   "id": "3405d6c5",
   "metadata": {},
   "source": [
    "Finally, one could want to see the distribution of publication date."
   ]
  },
  {
   "cell_type": "code",
   "execution_count": 13,
   "id": "34b6b1da",
   "metadata": {},
   "outputs": [
    {
     "data": {
      "image/png": "[encoded data removed]",
      "text/plain": [
       "<Figure size 432x288 with 1 Axes>"
      ]
     },
     "metadata": {},
     "output_type": "display_data"
    }
   ],
   "source": [
    "dates = np.array(pd.to_datetime(df.date).to_list())\n",
    "sns.histplot(data=dates)\n",
    "plt.title('Publication date distribution')\n",
    "plt.xlabel('Publication date')\n",
    "plt.ylabel('Number of documents');"
   ]
  },
  {
   "cell_type": "code",
   "execution_count": 14,
   "id": "c70bd0b0",
   "metadata": {},
   "outputs": [
    {
     "data": {
      "text/plain": [
       "(Timestamp('2003-11-28 00:00:00'), Timestamp('2018-12-19 00:00:00'))"
      ]
     },
     "execution_count": 14,
     "metadata": {},
     "output_type": "execute_result"
    }
   ],
   "source": [
    "np.min(dates[dates > pd.to_datetime('1970')]), np.max(dates[dates > pd.to_datetime('1970')])"
   ]
  },
  {
   "cell_type": "markdown",
   "id": "77b10eef",
   "metadata": {},
   "source": [
    "Date distribution has support between 2003 and 2018, but it really concentrates itself between 2008 and 2018. It is clear that many documents have publication year 1970, however this information is acting like a missing value. Although this is problematic, that is, many documents do not have publication date, it will not impact our models, because we will work only with raw texts."
   ]
  },
  {
   "cell_type": "markdown",
   "id": "departmental-stick",
   "metadata": {},
   "source": [
    "## Methodology"
   ]
  },
  {
   "cell_type": "markdown",
   "id": "7a6c8b26",
   "metadata": {},
   "source": [
    "### Dataset split"
   ]
  },
  {
   "cell_type": "markdown",
   "id": "3446de48",
   "metadata": {},
   "source": [
    "The main goal of this work is to assert whether traditional machine learning models can ``separate'' documents according to BP citations. We will create two datasets, training and test datasets, that will be used to fit and to test the models, respectively. Some of the models will be fitted in training dataset in a cross validation style, i.e., training data will be splitted in K sets, and, for each set, the model is fitted in all other sets and validated in this set; in the end all metrics are aggregated. This is very usefull in the task of choosing hyperparameters of some models.\n",
    "\n",
    "- Each document cites one BP\n",
    "- Remove duplicates\n",
    "- 4 most cited BPs\n",
    "- Balanced dataset\n",
    "- Supervised\n",
    "    - training set\n",
    "    - test set\n",
    "    - cross validation"
   ]
  },
  {
   "cell_type": "markdown",
   "id": "8aaf5148",
   "metadata": {},
   "source": [
    "### Text preprocessing"
   ]
  },
  {
   "cell_type": "markdown",
   "id": "0fd3b9b9",
   "metadata": {},
   "source": [
    "- lowercase\n",
    "- tokenize\n",
    "- lemmatization\n",
    "- stopwords\n",
    "- punctuation"
   ]
  },
  {
   "cell_type": "markdown",
   "id": "007615e7",
   "metadata": {},
   "source": [
    "### Document embeddings"
   ]
  },
  {
   "cell_type": "markdown",
   "id": "8f7fe6fc",
   "metadata": {},
   "source": [
    "- TF-IDF\n",
    "- Doc2vec\n",
    "<!-- - Universal Sentence Encoder -->\n",
    "- Dimensionality reduction\n",
    "    - Truncated SVD\n",
    "- more vectors?"
   ]
  },
  {
   "cell_type": "markdown",
   "id": "0aafe812",
   "metadata": {},
   "source": [
    "### Machine learning models"
   ]
  },
  {
   "cell_type": "markdown",
   "id": "b0df1fc3",
   "metadata": {},
   "source": [
    "- Linear regression\n",
    "    - Ridge e LASSO\n",
    "- Linear Discriminant Analysis\n",
    "<!-- - QDA -->\n",
    "- KNN\n",
    "<!-- - Árvores -->\n",
    "<!-- - Bagging -->\n",
    "- Random forest\n",
    "<!-- - Boosting -->\n",
    "- Support Vector Machines\n",
    "- Principal Component Analysis\n",
    "- K-means\n",
    "- Hierarchical clustering\n",
    "<!-- - Gaussian Mixture -->\n",
    "- Latent Dirichlet Analysis"
   ]
  },
  {
   "cell_type": "markdown",
   "id": "1b868497",
   "metadata": {},
   "source": [
    "### Performance metrics"
   ]
  },
  {
   "cell_type": "markdown",
   "id": "5043938e",
   "metadata": {},
   "source": [
    "- Accuracy\n",
    "- Confusion matrix\n",
    "<!-- - RoC curve -->\n",
    "<!-- - Cross validation -->\n",
    "- recall\n",
    "- precision"
   ]
  },
  {
   "cell_type": "markdown",
   "id": "growing-engineering",
   "metadata": {},
   "source": [
    "## Results and discussion"
   ]
  },
  {
   "cell_type": "markdown",
   "id": "0ea513b4",
   "metadata": {},
   "source": [
    "### Dataset split and text preprocessing"
   ]
  },
  {
   "cell_type": "code",
   "execution_count": 15,
   "id": "2bd22d2c",
   "metadata": {},
   "outputs": [],
   "source": [
    "def one_citation(i_cite):\n",
    "    '''Assert whether the document cite only that BP.'''\n",
    "    pattern = 'sum. vinc. ([0-9]{1,2})'\n",
    "    citations = re.findall(pattern, i_cite)\n",
    "    if len(set(citations)) == 1:\n",
    "        return True\n",
    "    return False"
   ]
  },
  {
   "cell_type": "code",
   "execution_count": 16,
   "id": "698097ef",
   "metadata": {},
   "outputs": [],
   "source": [
    "sizes = dict()\n",
    "for bp in range(1, 58+1):\n",
    "    df = dfs[bp-1]\n",
    "    if df is not None:\n",
    "        df = df[df.i_cite.apply(lambda x: one_citation(x))]\n",
    "        df = df[~df.raw_text.duplicated()]\n",
    "        df['label'] = bp\n",
    "        dfs[bp-1] = df\n",
    "        sizes[bp] = len(df)\n",
    "    else:\n",
    "        sizes[bp] = 0"
   ]
  },
  {
   "cell_type": "code",
   "execution_count": 17,
   "id": "31f659fb",
   "metadata": {
    "scrolled": true
   },
   "outputs": [
    {
     "data": {
      "text/plain": [
       "[(10, 13094), (37, 2917), (4, 2540), (20, 1582)]"
      ]
     },
     "execution_count": 17,
     "metadata": {},
     "output_type": "execute_result"
    }
   ],
   "source": [
    "sorted(sizes.items(), key=lambda x: x[1], reverse=True)[:4]"
   ]
  },
  {
   "cell_type": "code",
   "execution_count": 18,
   "id": "4e5fd670",
   "metadata": {},
   "outputs": [],
   "source": [
    "df_10 = dfs[10-1].sample(1582, random_state=42)\n",
    "df_37 = dfs[37-1].sample(1582, random_state=42)\n",
    "df_4 = dfs[4-1].sample(1582, random_state=42)\n",
    "df_20 = dfs[20-1].sample(1582, random_state=42)"
   ]
  },
  {
   "cell_type": "code",
   "execution_count": 19,
   "id": "da294995",
   "metadata": {},
   "outputs": [
    {
     "data": {
      "text/html": [
       "<div>\n",
       "<style scoped>\n",
       "    .dataframe tbody tr th:only-of-type {\n",
       "        vertical-align: middle;\n",
       "    }\n",
       "\n",
       "    .dataframe tbody tr th {\n",
       "        vertical-align: top;\n",
       "    }\n",
       "\n",
       "    .dataframe thead th {\n",
       "        text-align: right;\n",
       "    }\n",
       "</style>\n",
       "<table border=\"1\" class=\"dataframe\">\n",
       "  <thead>\n",
       "    <tr style=\"text-align: right;\">\n",
       "      <th></th>\n",
       "      <th>title</th>\n",
       "      <th>raw_text</th>\n",
       "      <th>i_cite</th>\n",
       "      <th>date</th>\n",
       "      <th>label</th>\n",
       "    </tr>\n",
       "  </thead>\n",
       "  <tbody>\n",
       "    <tr>\n",
       "      <th>0</th>\n",
       "      <td>20091014_Rcl_8918_2675717</td>\n",
       "      <td>DECISÃO: 1. Trata-se de reclamação ajuizada pe...</td>\n",
       "      <td>['sum. vinc. 10 N/A STF N/A', 'rcl 2716 222994...</td>\n",
       "      <td>2009-10-14</td>\n",
       "      <td>10</td>\n",
       "    </tr>\n",
       "    <tr>\n",
       "      <th>1</th>\n",
       "      <td>20131119_Rcl_16548_184585137</td>\n",
       "      <td>MEDIDA CAUTELAR NA RECLAMAÇÃO 16.548 RIO GRAND...</td>\n",
       "      <td>['sum. vinc. 10 N/A STF N/A 11937 1187', 'sum....</td>\n",
       "      <td>2013-11-19</td>\n",
       "      <td>10</td>\n",
       "    </tr>\n",
       "    <tr>\n",
       "      <th>2</th>\n",
       "      <td>20110927_ARE_652911_1607711</td>\n",
       "      <td>DJe 06/12/2011\\n\\nEmenta e Acórdão\\n\\n27/09/20...</td>\n",
       "      <td>['sum. vinc. 10 N/A STF N/A 11937 1187', 're 5...</td>\n",
       "      <td>2011-09-27</td>\n",
       "      <td>10</td>\n",
       "    </tr>\n",
       "    <tr>\n",
       "      <th>3</th>\n",
       "      <td>20170621_ARE_1052676_312039223</td>\n",
       "      <td>RECURSO EXTRAORDINÁRIO COM AGRAVO 1.052.676 DI...</td>\n",
       "      <td>['sum. vinc. 10 N/A STF N/A 11937 1187', 'are ...</td>\n",
       "      <td>2017-06-21</td>\n",
       "      <td>10</td>\n",
       "    </tr>\n",
       "    <tr>\n",
       "      <th>4</th>\n",
       "      <td>19700101_Rcl_8890_3256407</td>\n",
       "      <td>DECISÃO: Trata-se de reclamação, ajuizada pelo...</td>\n",
       "      <td>['sum. vinc. 10 N/A STF N/A', 're 240096 17380...</td>\n",
       "      <td>1970-01-01</td>\n",
       "      <td>10</td>\n",
       "    </tr>\n",
       "    <tr>\n",
       "      <th>...</th>\n",
       "      <td>...</td>\n",
       "      <td>...</td>\n",
       "      <td>...</td>\n",
       "      <td>...</td>\n",
       "      <td>...</td>\n",
       "    </tr>\n",
       "    <tr>\n",
       "      <th>6323</th>\n",
       "      <td>20140203_RE_787075_192761229</td>\n",
       "      <td>RECURSO EXTRAORDINÁRIO 787.075 SANTA CATARINA\\...</td>\n",
       "      <td>['re 476279 2349970 STF N/A 1305 20', 'sum. vi...</td>\n",
       "      <td>2014-02-03</td>\n",
       "      <td>20</td>\n",
       "    </tr>\n",
       "    <tr>\n",
       "      <th>6324</th>\n",
       "      <td>20140605_ARE_790259_229696329</td>\n",
       "      <td>RECURSO EXTRAORDINÁRIO COM AGRAVO 790.259 SANT...</td>\n",
       "      <td>['re 476279 2349970 STF N/A 1305 20', 'ai 7178...</td>\n",
       "      <td>2014-06-05</td>\n",
       "      <td>20</td>\n",
       "    </tr>\n",
       "    <tr>\n",
       "      <th>6325</th>\n",
       "      <td>20141030_RE_842822_273608677</td>\n",
       "      <td>RECURSO EXTRAORDINÁRIO 842.822 PARAÍBA\\n\\nRELA...</td>\n",
       "      <td>['re 630880 3960331 STF AgR 128 2', 'sum. vinc...</td>\n",
       "      <td>2014-10-30</td>\n",
       "      <td>20</td>\n",
       "    </tr>\n",
       "    <tr>\n",
       "      <th>6326</th>\n",
       "      <td>20130920_ARE_676935_171204446</td>\n",
       "      <td>RECURSO EXTRAORDINÁRIO COM AGRAVO 676.935 RIO ...</td>\n",
       "      <td>['are 751677 4411762 STF N/A 52 0', 'ai 508047...</td>\n",
       "      <td>2013-09-20</td>\n",
       "      <td>20</td>\n",
       "    </tr>\n",
       "    <tr>\n",
       "      <th>6327</th>\n",
       "      <td>20150424_RE_879576_15331588407</td>\n",
       "      <td>RECURSO EXTRAORDINÁRIO 879.576 DISTRITO FEDERA...</td>\n",
       "      <td>['ai 741038 2659533 STF AgR 418 45', 're 63393...</td>\n",
       "      <td>2015-04-24</td>\n",
       "      <td>20</td>\n",
       "    </tr>\n",
       "  </tbody>\n",
       "</table>\n",
       "<p>6328 rows × 5 columns</p>\n",
       "</div>"
      ],
      "text/plain": [
       "                               title  \\\n",
       "0          20091014_Rcl_8918_2675717   \n",
       "1       20131119_Rcl_16548_184585137   \n",
       "2        20110927_ARE_652911_1607711   \n",
       "3     20170621_ARE_1052676_312039223   \n",
       "4          19700101_Rcl_8890_3256407   \n",
       "...                              ...   \n",
       "6323    20140203_RE_787075_192761229   \n",
       "6324   20140605_ARE_790259_229696329   \n",
       "6325    20141030_RE_842822_273608677   \n",
       "6326   20130920_ARE_676935_171204446   \n",
       "6327  20150424_RE_879576_15331588407   \n",
       "\n",
       "                                               raw_text  \\\n",
       "0     DECISÃO: 1. Trata-se de reclamação ajuizada pe...   \n",
       "1     MEDIDA CAUTELAR NA RECLAMAÇÃO 16.548 RIO GRAND...   \n",
       "2     DJe 06/12/2011\\n\\nEmenta e Acórdão\\n\\n27/09/20...   \n",
       "3     RECURSO EXTRAORDINÁRIO COM AGRAVO 1.052.676 DI...   \n",
       "4     DECISÃO: Trata-se de reclamação, ajuizada pelo...   \n",
       "...                                                 ...   \n",
       "6323  RECURSO EXTRAORDINÁRIO 787.075 SANTA CATARINA\\...   \n",
       "6324  RECURSO EXTRAORDINÁRIO COM AGRAVO 790.259 SANT...   \n",
       "6325  RECURSO EXTRAORDINÁRIO 842.822 PARAÍBA\\n\\nRELA...   \n",
       "6326  RECURSO EXTRAORDINÁRIO COM AGRAVO 676.935 RIO ...   \n",
       "6327  RECURSO EXTRAORDINÁRIO 879.576 DISTRITO FEDERA...   \n",
       "\n",
       "                                                 i_cite        date  label  \n",
       "0     ['sum. vinc. 10 N/A STF N/A', 'rcl 2716 222994...  2009-10-14     10  \n",
       "1     ['sum. vinc. 10 N/A STF N/A 11937 1187', 'sum....  2013-11-19     10  \n",
       "2     ['sum. vinc. 10 N/A STF N/A 11937 1187', 're 5...  2011-09-27     10  \n",
       "3     ['sum. vinc. 10 N/A STF N/A 11937 1187', 'are ...  2017-06-21     10  \n",
       "4     ['sum. vinc. 10 N/A STF N/A', 're 240096 17380...  1970-01-01     10  \n",
       "...                                                 ...         ...    ...  \n",
       "6323  ['re 476279 2349970 STF N/A 1305 20', 'sum. vi...  2014-02-03     20  \n",
       "6324  ['re 476279 2349970 STF N/A 1305 20', 'ai 7178...  2014-06-05     20  \n",
       "6325  ['re 630880 3960331 STF AgR 128 2', 'sum. vinc...  2014-10-30     20  \n",
       "6326  ['are 751677 4411762 STF N/A 52 0', 'ai 508047...  2013-09-20     20  \n",
       "6327  ['ai 741038 2659533 STF AgR 418 45', 're 63393...  2015-04-24     20  \n",
       "\n",
       "[6328 rows x 5 columns]"
      ]
     },
     "execution_count": 19,
     "metadata": {},
     "output_type": "execute_result"
    }
   ],
   "source": [
    "df = pd.concat([df_10, df_37, df_4, df_20], ignore_index=True)\n",
    "df"
   ]
  },
  {
   "cell_type": "code",
   "execution_count": 21,
   "id": "a77e2dda",
   "metadata": {},
   "outputs": [],
   "source": [
    "X = df.raw_text.to_list()\n",
    "y = df.label.to_list()"
   ]
  },
  {
   "cell_type": "code",
   "execution_count": null,
   "id": "dfe2187a",
   "metadata": {},
   "outputs": [],
   "source": [
    "def preprocessing()"
   ]
  },
  {
   "cell_type": "code",
   "execution_count": 28,
   "id": "98e2916d",
   "metadata": {},
   "outputs": [],
   "source": [
    "X_train, X_test, y_train, y_test = train_test_split(\n",
    "    X,\n",
    "    y,\n",
    "    test_size=0.2,\n",
    "    random_state=42,\n",
    "    shuffle=True,\n",
    "    stratify=y\n",
    ")"
   ]
  },
  {
   "cell_type": "markdown",
   "id": "stupid-plasma",
   "metadata": {},
   "source": [
    "## References"
   ]
  }
 ],
 "metadata": {
  "kernelspec": {
   "display_name": "Python 3",
   "language": "python",
   "name": "python3"
  },
  "language_info": {
   "codemirror_mode": {
    "name": "ipython",
    "version": 3
   },
   "file_extension": ".py",
   "mimetype": "text/x-python",
   "name": "python",
   "nbconvert_exporter": "python",
   "pygments_lexer": "ipython3",
   "version": "3.8.10"
  },
  "toc": {
   "base_numbering": 1,
   "nav_menu": {},
   "number_sections": true,
   "sideBar": true,
   "skip_h1_title": true,
   "title_cell": "Table of Contents",
   "title_sidebar": "Contents",
   "toc_cell": true,
   "toc_position": {},
   "toc_section_display": true,
   "toc_window_display": false
  }
 },
 "nbformat": 4,
 "nbformat_minor": 5
}
