{
 "cells": [
  {
   "cell_type": "markdown",
   "id": "spanish-violence",
   "metadata": {},
   "source": [
    "# Separability of legal documents according to precedent citations\n",
    "\n",
    "- Lucas Emanuel Resck Domingues\n",
    "- Machine Learning assignment\n",
    "- Professor Rodrigo Targino, FGV-EMAp"
   ]
  },
  {
   "cell_type": "markdown",
   "id": "electronic-stability",
   "metadata": {
    "toc": true
   },
   "source": [
    "<h1>Table of Contents<span class=\"tocSkip\"></span></h1>\n",
    "<div class=\"toc\"><ul class=\"toc-item\"><li><span><a href=\"#Introduction\" data-toc-modified-id=\"Introduction-1\"><span class=\"toc-item-num\">1&nbsp;&nbsp;</span>Introduction</a></span></li><li><span><a href=\"#Exploratory-Data-Analysis\" data-toc-modified-id=\"Exploratory-Data-Analysis-2\"><span class=\"toc-item-num\">2&nbsp;&nbsp;</span>Exploratory Data Analysis</a></span></li><li><span><a href=\"#Methodology\" data-toc-modified-id=\"Methodology-3\"><span class=\"toc-item-num\">3&nbsp;&nbsp;</span>Methodology</a></span></li><li><span><a href=\"#Results-and-discussion\" data-toc-modified-id=\"Results-and-discussion-4\"><span class=\"toc-item-num\">4&nbsp;&nbsp;</span>Results and discussion</a></span></li><li><span><a href=\"#References\" data-toc-modified-id=\"References-5\"><span class=\"toc-item-num\">5&nbsp;&nbsp;</span>References</a></span></li></ul></div>"
   ]
  },
  {
   "cell_type": "markdown",
   "id": "suspended-prince",
   "metadata": {},
   "source": [
    "## Introduction"
   ]
  },
  {
   "cell_type": "markdown",
   "id": "powerful-drove",
   "metadata": {},
   "source": [
    "- STF\n",
    "- Decisions\n",
    "- Precedents\n",
    "- Binding Precedents\n",
    "- Are the documents separable? Why is this important?\n",
    "- Resume of techniques and results..."
   ]
  },
  {
   "cell_type": "markdown",
   "id": "accepted-australian",
   "metadata": {},
   "source": [
    "## Exploratory Data Analysis"
   ]
  },
  {
   "cell_type": "markdown",
   "id": "labeled-cincinnati",
   "metadata": {},
   "source": [
    "Get some contact with the data..."
   ]
  },
  {
   "cell_type": "markdown",
   "id": "departmental-stick",
   "metadata": {},
   "source": [
    "## Methodology"
   ]
  },
  {
   "cell_type": "markdown",
   "id": "explicit-turkish",
   "metadata": {},
   "source": [
    "- Accuracy\n",
    "- Confusion matrix\n",
    "<!-- - RoC curve -->\n",
    "<!-- - Cross validation -->\n",
    "\n",
    "\n",
    "- TF-IDF\n",
    "- Doc2vec\n",
    "<!-- - Universal Sentence Encoder -->\n",
    "- Dimensionality reduction\n",
    "    - Truncated SVD\n",
    "- more vectors?\n",
    "\n",
    "\n",
    "- Linear regression\n",
    "    - Ridge e LASSO\n",
    "- Linear Discriminant Analysis\n",
    "<!-- - QDA -->\n",
    "- KNN\n",
    "<!-- - Árvores -->\n",
    "<!-- - Bagging -->\n",
    "- Random forest\n",
    "<!-- - Boosting -->\n",
    "- Support Vector Machines\n",
    "- Principal Component Analysis\n",
    "- K-means\n",
    "- Hierarchical clustering\n",
    "<!-- - Gaussian Mixture -->\n",
    "- Latent Dirichlet Analysis"
   ]
  },
  {
   "cell_type": "markdown",
   "id": "growing-engineering",
   "metadata": {},
   "source": [
    "## Results and discussion"
   ]
  },
  {
   "cell_type": "markdown",
   "id": "stupid-plasma",
   "metadata": {},
   "source": [
    "## References"
   ]
  }
 ],
 "metadata": {
  "kernelspec": {
   "display_name": "Python 3",
   "language": "python",
   "name": "python3"
  },
  "language_info": {
   "codemirror_mode": {
    "name": "ipython",
    "version": 3
   },
   "file_extension": ".py",
   "mimetype": "text/x-python",
   "name": "python",
   "nbconvert_exporter": "python",
   "pygments_lexer": "ipython3",
   "version": "3.8.5"
  },
  "toc": {
   "base_numbering": 1,
   "nav_menu": {},
   "number_sections": true,
   "sideBar": true,
   "skip_h1_title": true,
   "title_cell": "Table of Contents",
   "title_sidebar": "Contents",
   "toc_cell": true,
   "toc_position": {},
   "toc_section_display": true,
   "toc_window_display": false
  }
 },
 "nbformat": 4,
 "nbformat_minor": 5
}
