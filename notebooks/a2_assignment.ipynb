{
 "cells": [
  {
   "cell_type": "markdown",
   "id": "spanish-violence",
   "metadata": {},
   "source": [
    "# Separability of legal documents according to precedent citations\n",
    "\n",
    "- Lucas Emanuel Resck Domingues\n",
    "- Machine Learning assignment\n",
    "- Professor Rodrigo Targino, FGV-EMAp"
   ]
  },
  {
   "cell_type": "markdown",
   "id": "electronic-stability",
   "metadata": {
    "toc": true
   },
   "source": [
    "<h1>Table of Contents<span class=\"tocSkip\"></span></h1>\n",
    "<div class=\"toc\"><ul class=\"toc-item\"><li><span><a href=\"#Setup\" data-toc-modified-id=\"Setup-1\"><span class=\"toc-item-num\">1&nbsp;&nbsp;</span>Setup</a></span></li><li><span><a href=\"#Introduction\" data-toc-modified-id=\"Introduction-2\"><span class=\"toc-item-num\">2&nbsp;&nbsp;</span>Introduction</a></span></li><li><span><a href=\"#Dataset\" data-toc-modified-id=\"Dataset-3\"><span class=\"toc-item-num\">3&nbsp;&nbsp;</span>Dataset</a></span><ul class=\"toc-item\"><li><span><a href=\"#Binding-Precedents\" data-toc-modified-id=\"Binding-Precedents-3.1\"><span class=\"toc-item-num\">3.1&nbsp;&nbsp;</span>Binding Precedents</a></span></li><li><span><a href=\"#Dataset-description\" data-toc-modified-id=\"Dataset-description-3.2\"><span class=\"toc-item-num\">3.2&nbsp;&nbsp;</span>Dataset description</a></span></li><li><span><a href=\"#Exploratory-Data-Analysis\" data-toc-modified-id=\"Exploratory-Data-Analysis-3.3\"><span class=\"toc-item-num\">3.3&nbsp;&nbsp;</span>Exploratory Data Analysis</a></span></li></ul></li><li><span><a href=\"#Methodology\" data-toc-modified-id=\"Methodology-4\"><span class=\"toc-item-num\">4&nbsp;&nbsp;</span>Methodology</a></span></li><li><span><a href=\"#Results-and-discussion\" data-toc-modified-id=\"Results-and-discussion-5\"><span class=\"toc-item-num\">5&nbsp;&nbsp;</span>Results and discussion</a></span></li><li><span><a href=\"#References\" data-toc-modified-id=\"References-6\"><span class=\"toc-item-num\">6&nbsp;&nbsp;</span>References</a></span></li></ul></div>"
   ]
  },
  {
   "cell_type": "markdown",
   "id": "packed-determination",
   "metadata": {},
   "source": [
    "## Setup"
   ]
  },
  {
   "cell_type": "code",
   "execution_count": 28,
   "id": "worst-header",
   "metadata": {},
   "outputs": [],
   "source": [
    "import matplotlib.pyplot as plt\n",
    "import os\n",
    "import pandas as pd\n",
    "import seaborn as sns\n",
    "\n",
    "sns.set()"
   ]
  },
  {
   "cell_type": "code",
   "execution_count": 12,
   "id": "grave-guarantee",
   "metadata": {},
   "outputs": [],
   "source": [
    "data_path = os.path.join('../data/docs')"
   ]
  },
  {
   "cell_type": "markdown",
   "id": "suspended-prince",
   "metadata": {},
   "source": [
    "## Introduction"
   ]
  },
  {
   "cell_type": "markdown",
   "id": "powerful-drove",
   "metadata": {},
   "source": [
    "The Brazilian Supreme Court (STF) is the highest law court in Brazil. It produces a huge number of documents during its functioning, \\textit{e.g.}, there were produced more than 1 million STF decisions between 2011 and 2020 \\cite{}. STF is not the only institution that deals with overload: it is spread all over the Brazilian Judicial System.\n",
    "\n",
    "One approach to solve this problem is the so-called precedent: when a similar case has to be decided again, this new decision can be taken based on the referenced old decision. This way, cases are solved faster. Many precedents about a subject in a court are consolidated in what is called a ``súmula'', a document that resumes the court understanding about that subject. However, the application of this understanding is not mandatory, and the judge can take a different decision. This situation can lead not only to judicial inefficiency, but also to judicial insecurity.\n",
    "\n",
    "With this situation in mind, STF was allowed, in 2004, by Constitutional Amendment, to create \"Súmulas Vinculantes\", which we will call here \"Binding Precedents\", or just BPs. They are basically the old súmulas, but with mandatory application. These BPs are frequently cited in the STF decisions.\n",
    "\n",
    "It seems trivial that documents that cite the same precedents have the same subjects, and documents that cite different precedents have different subjects, in general. However, can machine learning models and algorithms identify this pattern themselves? That is, if a trained machine learning model is presented to a document, can it predict which precedent is being cited? These questions are very relevant because, if the answer is yes, artificial intelligence algorithms can be very helpful in assisting legal experts during their analysis, considering the big number of long legal documents.\n",
    "\n",
    "This situation of predicting the correct precedent is what is being called here as ``separability'' of documents. In this assignment, this separability will consider Binding Precedents in STF decisions. This work is organized as follows."
   ]
  },
  {
   "cell_type": "markdown",
   "id": "accepted-australian",
   "metadata": {},
   "source": [
    "## Dataset"
   ]
  },
  {
   "cell_type": "markdown",
   "id": "labeled-cincinnati",
   "metadata": {},
   "source": [
    "### Binding Precedents"
   ]
  },
  {
   "cell_type": "markdown",
   "id": "multiple-stake",
   "metadata": {},
   "source": [
    "Until June 2021, 58 Binding Precendents have already been created. For example, take a look at BP 10's text:\n",
    "\n",
    "\\textit{``Viola a cláusula de reserva de plenário (CF, artigo 97) a decisão de órgão fracionário de tribunal que, embora não declare expressamente a inconstitucionalidade de lei ou ato normativo do Poder Público, afasta sua incidência, no todo ou em parte.''}\n",
    "\n",
    "Although it can lead to some insights, we are not interested in studying the meaning of all the BPs."
   ]
  },
  {
   "cell_type": "markdown",
   "id": "defensive-brunswick",
   "metadata": {},
   "source": [
    "### Dataset description"
   ]
  },
  {
   "cell_type": "markdown",
   "id": "commercial-finland",
   "metadata": {},
   "source": [
    "The dataset used thoughout this work is composed by decisions generated by STF that cite at least one Binding Precedent. Although these documents are public, they are very difficult to be accessed, mainly when it is necessary a big amount of data. This way, we use a dataset gathered in the context of Supremo em Números project \\cite{}, from FGV's Law School.\n",
    "\n",
    "The dataset, in the way we have it, is composed by 58 CSV files of structured data, with columns:\n",
    "- title: document title, formed by date, document type and an ID;\n",
    "- raw_text: document's raw text;\n",
    "- i_cite: list of cited precedents, including BPs, already extracted from the raw texts;\n",
    "- date: document's publication date.\n",
    "\n",
    "See a sample:"
   ]
  },
  {
   "cell_type": "code",
   "execution_count": 13,
   "id": "manufactured-blackberry",
   "metadata": {},
   "outputs": [
    {
     "data": {
      "text/html": [
       "<div>\n",
       "<style scoped>\n",
       "    .dataframe tbody tr th:only-of-type {\n",
       "        vertical-align: middle;\n",
       "    }\n",
       "\n",
       "    .dataframe tbody tr th {\n",
       "        vertical-align: top;\n",
       "    }\n",
       "\n",
       "    .dataframe thead th {\n",
       "        text-align: right;\n",
       "    }\n",
       "</style>\n",
       "<table border=\"1\" class=\"dataframe\">\n",
       "  <thead>\n",
       "    <tr style=\"text-align: right;\">\n",
       "      <th></th>\n",
       "      <th>title</th>\n",
       "      <th>raw_text</th>\n",
       "      <th>i_cite</th>\n",
       "      <th>date</th>\n",
       "    </tr>\n",
       "  </thead>\n",
       "  <tbody>\n",
       "    <tr>\n",
       "      <th>1801</th>\n",
       "      <td>19700101_Rcl_11860_3722572</td>\n",
       "      <td>RECLAMAÇÃO. MEDIDA CAUTELAR. RESPONSABILIDADE ...</td>\n",
       "      <td>['sum. vinc. 10 N/A STF N/A', 'adc 16 2497093 ...</td>\n",
       "      <td>1970-01-01</td>\n",
       "    </tr>\n",
       "  </tbody>\n",
       "</table>\n",
       "</div>"
      ],
      "text/plain": [
       "                           title  \\\n",
       "1801  19700101_Rcl_11860_3722572   \n",
       "\n",
       "                                               raw_text  \\\n",
       "1801  RECLAMAÇÃO. MEDIDA CAUTELAR. RESPONSABILIDADE ...   \n",
       "\n",
       "                                                 i_cite        date  \n",
       "1801  ['sum. vinc. 10 N/A STF N/A', 'adc 16 2497093 ...  1970-01-01  "
      ]
     },
     "execution_count": 13,
     "metadata": {},
     "output_type": "execute_result"
    }
   ],
   "source": [
    "pd.read_csv(os.path.join(data_path, 'docs_sv_10.csv')).sample()"
   ]
  },
  {
   "cell_type": "code",
   "execution_count": 14,
   "id": "complete-accordance",
   "metadata": {},
   "outputs": [
    {
     "name": "stdout",
     "output_type": "stream",
     "text": [
      "\\begin{tabular}{lllll}\n",
      "\\toprule\n",
      "{} &                       title &                                           raw\\_text &                                             i\\_cite &        date \\\\\n",
      "\\midrule\n",
      "12592 &  20100930\\_Rcl\\_10460\\_3418590 &  DECISÃO\\textbackslash n\\textbackslash nRECLAMAÇÃO. ADMINISTRATIVO. ALEGADO... &  ['sum. vinc. 10 N/A STF N/A 11937 1187', 'rcl ... &  2010-09-30 \\\\\n",
      "\\bottomrule\n",
      "\\end{tabular}\n",
      "\n"
     ]
    }
   ],
   "source": [
    "print(pd.read_csv(os.path.join(data_path, 'docs_sv_10.csv')).sample().to_latex())"
   ]
  },
  {
   "cell_type": "markdown",
   "id": "external-massachusetts",
   "metadata": {},
   "source": [
    "### Exploratory Data Analysis"
   ]
  },
  {
   "cell_type": "markdown",
   "id": "analyzed-spectrum",
   "metadata": {},
   "source": [
    "- Citações cada BP\n",
    "- raw_text\n",
    "    - distribuição quantidade de palavras\n",
    "    - repetições\n",
    "- date\n",
    "    - distribuition\n",
    "    - 1970 problem"
   ]
  },
  {
   "cell_type": "code",
   "execution_count": 15,
   "id": "silent-architect",
   "metadata": {},
   "outputs": [],
   "source": [
    "dfs = []\n",
    "for bp in range(1, 58+1):\n",
    "    try:\n",
    "        df = pd.read_csv(os.path.join(data_path, 'docs_sv_{}.csv'.format(bp)))\n",
    "        dfs.append(df)\n",
    "    except pd.errors.EmptyDataError as e:\n",
    "        dfs.append(None)"
   ]
  },
  {
   "cell_type": "code",
   "execution_count": 58,
   "id": "e287f5b9",
   "metadata": {},
   "outputs": [
    {
     "data": {
      "image/png": "[encoded data removed]",
      "text/plain": [
       "<Figure size 720x360 with 1 Axes>"
      ]
     },
     "metadata": {},
     "output_type": "display_data"
    }
   ],
   "source": [
    "fig, ax = plt.subplots(figsize=(10, 5))\n",
    "sns.barplot(x=list(range(1, 58+1)), y=[len(df) if df is not None else 0 for df in dfs], color='gray', ax=ax)\n",
    "ax.set_xticklabels([str(i) if i % 2 == 0 else '' for i in range(1, 59)])\n",
    "plt.title('Number of citations per BP')\n",
    "plt.xlabel('BP')\n",
    "plt.ylabel('Nº of citations');"
   ]
  },
  {
   "cell_type": "markdown",
   "id": "departmental-stick",
   "metadata": {},
   "source": [
    "## Methodology"
   ]
  },
  {
   "cell_type": "markdown",
   "id": "explicit-turkish",
   "metadata": {},
   "source": [
    "- Accuracy\n",
    "- Confusion matrix\n",
    "<!-- - RoC curve -->\n",
    "<!-- - Cross validation -->\n",
    "\n",
    "\n",
    "- TF-IDF\n",
    "- Doc2vec\n",
    "<!-- - Universal Sentence Encoder -->\n",
    "- Dimensionality reduction\n",
    "    - Truncated SVD\n",
    "- more vectors?\n",
    "\n",
    "\n",
    "- Linear regression\n",
    "    - Ridge e LASSO\n",
    "- Linear Discriminant Analysis\n",
    "<!-- - QDA -->\n",
    "- KNN\n",
    "<!-- - Árvores -->\n",
    "<!-- - Bagging -->\n",
    "- Random forest\n",
    "<!-- - Boosting -->\n",
    "- Support Vector Machines\n",
    "- Principal Component Analysis\n",
    "- K-means\n",
    "- Hierarchical clustering\n",
    "<!-- - Gaussian Mixture -->\n",
    "- Latent Dirichlet Analysis"
   ]
  },
  {
   "cell_type": "markdown",
   "id": "growing-engineering",
   "metadata": {},
   "source": [
    "## Results and discussion"
   ]
  },
  {
   "cell_type": "markdown",
   "id": "stupid-plasma",
   "metadata": {},
   "source": [
    "## References"
   ]
  }
 ],
 "metadata": {
  "kernelspec": {
   "display_name": "Python 3",
   "language": "python",
   "name": "python3"
  },
  "language_info": {
   "codemirror_mode": {
    "name": "ipython",
    "version": 3
   },
   "file_extension": ".py",
   "mimetype": "text/x-python",
   "name": "python",
   "nbconvert_exporter": "python",
   "pygments_lexer": "ipython3",
   "version": "3.8.10"
  },
  "toc": {
   "base_numbering": 1,
   "nav_menu": {},
   "number_sections": true,
   "sideBar": true,
   "skip_h1_title": true,
   "title_cell": "Table of Contents",
   "title_sidebar": "Contents",
   "toc_cell": true,
   "toc_position": {},
   "toc_section_display": true,
   "toc_window_display": false
  }
 },
 "nbformat": 4,
 "nbformat_minor": 5
}
